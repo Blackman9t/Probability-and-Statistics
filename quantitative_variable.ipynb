{
  "nbformat": 4,
  "nbformat_minor": 0,
  "metadata": {
    "colab": {
      "name": "quantitative_variable.ipynb",
      "version": "0.3.2",
      "provenance": [],
      "collapsed_sections": [],
      "include_colab_link": true
    },
    "kernelspec": {
      "name": "python3",
      "display_name": "Python 3"
    },
    "accelerator": "GPU"
  },
  "cells": [
    {
      "cell_type": "markdown",
      "metadata": {
        "id": "view-in-github",
        "colab_type": "text"
      },
      "source": [
        "<a href=\"https://colab.research.google.com/github/Blackman9t/Probability-and-Statistics/blob/master/quantitative_variable.ipynb\" target=\"_parent\"><img src=\"https://colab.research.google.com/assets/colab-badge.svg\" alt=\"Open In Colab\"/></a>"
      ]
    },
    {
      "cell_type": "markdown",
      "metadata": {
        "id": "aIe-JqS-b-GU",
        "colab_type": "text"
      },
      "source": [
        "# EDA: Examining Distributions"
      ]
    },
    {
      "cell_type": "markdown",
      "metadata": {
        "id": "zxS1CcmpClIq",
        "colab_type": "text"
      },
      "source": [
        "### One Quantitative Variable Intro"
      ]
    },
    {
      "cell_type": "markdown",
      "metadata": {
        "id": "Wm6Mja-OClIr",
        "colab_type": "text"
      },
      "source": [
        "_In this section, we will explore the data collected from a quantitative variable, and learn how to describe and summarize the important features of its distribution. We will first learn how to display the distribution using graphs and then move on to discuss numerical measures._  \n",
        "\n",
        "<h4>To display data from one quantitative variable, we can use either the histogram or the stem plot or maybe the boxplot</h4> "
      ]
    },
    {
      "cell_type": "markdown",
      "metadata": {
        "id": "fKwgu6_CSWJ_",
        "colab_type": "text"
      },
      "source": [
        "# Histogram Distribution Analysis"
      ]
    },
    {
      "cell_type": "markdown",
      "metadata": {
        "id": "-Nw1ZukHClIt",
        "colab_type": "text"
      },
      "source": [
        "<h3>Histogram intervals:</h3>"
      ]
    },
    {
      "cell_type": "code",
      "metadata": {
        "id": "znVzbY6xClIu",
        "colab_type": "code",
        "colab": {}
      },
      "source": [
        "import numpy as np\n",
        "import pandas as pd\n",
        "import matplotlib.pyplot as plt\n",
        "import seaborn as sns"
      ],
      "execution_count": 0,
      "outputs": []
    },
    {
      "cell_type": "markdown",
      "metadata": {
        "id": "gvRBCCMLClIy",
        "colab_type": "text"
      },
      "source": [
        "### Idea:  \n",
        "**Break the range of values into intervals and count how many observations fall into each interval**"
      ]
    },
    {
      "cell_type": "code",
      "metadata": {
        "id": "9t81dAKwClIz",
        "colab_type": "code",
        "colab": {}
      },
      "source": [
        "exam_grades = [88, 48, 60, 51, 57, 85, 69, 75, 97, 72, 71, 79, 65, 63, 73]\n",
        "bin = [40,50,60,70,80,90,100]"
      ],
      "execution_count": 0,
      "outputs": []
    },
    {
      "cell_type": "code",
      "metadata": {
        "id": "BgrZNsuUClI2",
        "colab_type": "code",
        "outputId": "da068e0b-e9b1-4a6d-913d-f953b0870039",
        "colab": {
          "base_uri": "https://localhost:8080/",
          "height": 309
        }
      },
      "source": [
        "plt.figure(figsize=(6,4))\n",
        "sns.set(font_scale=1.3)\n",
        "sns.set_style('ticks')\n",
        "plt.title('Histogram of Exam Grades')\n",
        "plt.xlabel('Score')\n",
        "plt.ylabel('Count')\n",
        "plt.hist(exam_grades, bins=bin, histtype='bar', edgecolor='r')\n",
        "plt.show()"
      ],
      "execution_count": 3,
      "outputs": [
        {
          "output_type": "display_data",
          "data": {
            "image/png": "[encoded data removed]",
            "text/plain": [
              "<Figure size 432x288 with 1 Axes>"
            ]
          },
          "metadata": {
            "tags": []
          }
        }
      ]
    },
    {
      "cell_type": "code",
      "metadata": {
        "id": "muUex7TIClI7",
        "colab_type": "code",
        "outputId": "4b1b70f8-e380-4ff8-c640-df28a7f62655",
        "colab": {
          "base_uri": "https://localhost:8080/",
          "height": 225
        }
      },
      "source": [
        "score = ['[40 - 50)','[50 - 60)','[60 - 70)','[70 - 80)','[80 - 90)','[90 - 100)']\n",
        "exams_df = pd.DataFrame(score)\n",
        "exams_df['Count'] = [1,2,4,5,2,1]\n",
        "exams_df.rename(columns={0:'Score'},inplace=True)\n",
        "\n",
        "exams_df"
      ],
      "execution_count": 4,
      "outputs": [
        {
          "output_type": "execute_result",
          "data": {
            "text/html": [
              "<div>\n",
              "<style scoped>\n",
              "    .dataframe tbody tr th:only-of-type {\n",
              "        vertical-align: middle;\n",
              "    }\n",
              "\n",
              "    .dataframe tbody tr th {\n",
              "        vertical-align: top;\n",
              "    }\n",
              "\n",
              "    .dataframe thead th {\n",
              "        text-align: right;\n",
              "    }\n",
              "</style>\n",
              "<table border=\"1\" class=\"dataframe\">\n",
              "  <thead>\n",
              "    <tr style=\"text-align: right;\">\n",
              "      <th></th>\n",
              "      <th>Score</th>\n",
              "      <th>Count</th>\n",
              "    </tr>\n",
              "  </thead>\n",
              "  <tbody>\n",
              "    <tr>\n",
              "      <th>0</th>\n",
              "      <td>[40 - 50)</td>\n",
              "      <td>1</td>\n",
              "    </tr>\n",
              "    <tr>\n",
              "      <th>1</th>\n",
              "      <td>[50 - 60)</td>\n",
              "      <td>2</td>\n",
              "    </tr>\n",
              "    <tr>\n",
              "      <th>2</th>\n",
              "      <td>[60 - 70)</td>\n",
              "      <td>4</td>\n",
              "    </tr>\n",
              "    <tr>\n",
              "      <th>3</th>\n",
              "      <td>[70 - 80)</td>\n",
              "      <td>5</td>\n",
              "    </tr>\n",
              "    <tr>\n",
              "      <th>4</th>\n",
              "      <td>[80 - 90)</td>\n",
              "      <td>2</td>\n",
              "    </tr>\n",
              "    <tr>\n",
              "      <th>5</th>\n",
              "      <td>[90 - 100)</td>\n",
              "      <td>1</td>\n",
              "    </tr>\n",
              "  </tbody>\n",
              "</table>\n",
              "</div>"
            ],
            "text/plain": [
              "        Score  Count\n",
              "0   [40 - 50)      1\n",
              "1   [50 - 60)      2\n",
              "2   [60 - 70)      4\n",
              "3   [70 - 80)      5\n",
              "4   [80 - 90)      2\n",
              "5  [90 - 100)      1"
            ]
          },
          "metadata": {
            "tags": []
          },
          "execution_count": 4
        }
      ]
    },
    {
      "cell_type": "markdown",
      "metadata": {
        "id": "1ri_ZEYmClJA",
        "colab_type": "text"
      },
      "source": [
        "<h4>Note that [40-50) means include 40 but exclude 50 in the distribution, this is a statistical way to write such</h4>"
      ]
    },
    {
      "cell_type": "code",
      "metadata": {
        "id": "w_0KNSDdClJA",
        "colab_type": "code",
        "colab": {}
      },
      "source": [
        ""
      ],
      "execution_count": 0,
      "outputs": []
    },
    {
      "cell_type": "markdown",
      "metadata": {
        "id": "y5wxoFRpClJD",
        "colab_type": "text"
      },
      "source": [
        "<h4>Let's convert the above Dataframe table- exams_df to a Relative-Frequency table</h4>"
      ]
    },
    {
      "cell_type": "code",
      "metadata": {
        "id": "2YTi3uSiClJE",
        "colab_type": "code",
        "outputId": "bee69cd9-34d3-4ade-ca25-47e2d3d66548",
        "colab": {
          "base_uri": "https://localhost:8080/",
          "height": 225
        }
      },
      "source": [
        "# First lets add a column for relative frequency by dividing each count by total count.\n",
        "\n",
        "exams_df['Relative-Freq'] = exams_df['Count'] / sum(exams_df['Count'])\n",
        "exams_df['Relative-Freq'] = np.round(exams_df['Relative-Freq'],2)\n",
        "\n",
        "exams_df"
      ],
      "execution_count": 5,
      "outputs": [
        {
          "output_type": "execute_result",
          "data": {
            "text/html": [
              "<div>\n",
              "<style scoped>\n",
              "    .dataframe tbody tr th:only-of-type {\n",
              "        vertical-align: middle;\n",
              "    }\n",
              "\n",
              "    .dataframe tbody tr th {\n",
              "        vertical-align: top;\n",
              "    }\n",
              "\n",
              "    .dataframe thead th {\n",
              "        text-align: right;\n",
              "    }\n",
              "</style>\n",
              "<table border=\"1\" class=\"dataframe\">\n",
              "  <thead>\n",
              "    <tr style=\"text-align: right;\">\n",
              "      <th></th>\n",
              "      <th>Score</th>\n",
              "      <th>Count</th>\n",
              "      <th>Relative-Freq</th>\n",
              "    </tr>\n",
              "  </thead>\n",
              "  <tbody>\n",
              "    <tr>\n",
              "      <th>0</th>\n",
              "      <td>[40 - 50)</td>\n",
              "      <td>1</td>\n",
              "      <td>0.07</td>\n",
              "    </tr>\n",
              "    <tr>\n",
              "      <th>1</th>\n",
              "      <td>[50 - 60)</td>\n",
              "      <td>2</td>\n",
              "      <td>0.13</td>\n",
              "    </tr>\n",
              "    <tr>\n",
              "      <th>2</th>\n",
              "      <td>[60 - 70)</td>\n",
              "      <td>4</td>\n",
              "      <td>0.27</td>\n",
              "    </tr>\n",
              "    <tr>\n",
              "      <th>3</th>\n",
              "      <td>[70 - 80)</td>\n",
              "      <td>5</td>\n",
              "      <td>0.33</td>\n",
              "    </tr>\n",
              "    <tr>\n",
              "      <th>4</th>\n",
              "      <td>[80 - 90)</td>\n",
              "      <td>2</td>\n",
              "      <td>0.13</td>\n",
              "    </tr>\n",
              "    <tr>\n",
              "      <th>5</th>\n",
              "      <td>[90 - 100)</td>\n",
              "      <td>1</td>\n",
              "      <td>0.07</td>\n",
              "    </tr>\n",
              "  </tbody>\n",
              "</table>\n",
              "</div>"
            ],
            "text/plain": [
              "        Score  Count  Relative-Freq\n",
              "0   [40 - 50)      1           0.07\n",
              "1   [50 - 60)      2           0.13\n",
              "2   [60 - 70)      4           0.27\n",
              "3   [70 - 80)      5           0.33\n",
              "4   [80 - 90)      2           0.13\n",
              "5  [90 - 100)      1           0.07"
            ]
          },
          "metadata": {
            "tags": []
          },
          "execution_count": 5
        }
      ]
    },
    {
      "cell_type": "code",
      "metadata": {
        "id": "wFI_9Hh3ClJH",
        "colab_type": "code",
        "colab": {}
      },
      "source": [
        "# Next let's append a row that shows total count using a python dictionary\n",
        "\n",
        "total = {'Score':'Total', 'Count':np.sum(exams_df['Count']), 'Relative-Freq':' '}\n",
        "exams_df = exams_df.append(total, ignore_index=True)"
      ],
      "execution_count": 0,
      "outputs": []
    },
    {
      "cell_type": "code",
      "metadata": {
        "id": "QI0TYYohClJK",
        "colab_type": "code",
        "outputId": "5f4f9185-e672-4437-cc4d-e56dacb221fd",
        "colab": {
          "base_uri": "https://localhost:8080/",
          "height": 254
        }
      },
      "source": [
        "exams_df"
      ],
      "execution_count": 7,
      "outputs": [
        {
          "output_type": "execute_result",
          "data": {
            "text/html": [
              "<div>\n",
              "<style scoped>\n",
              "    .dataframe tbody tr th:only-of-type {\n",
              "        vertical-align: middle;\n",
              "    }\n",
              "\n",
              "    .dataframe tbody tr th {\n",
              "        vertical-align: top;\n",
              "    }\n",
              "\n",
              "    .dataframe thead th {\n",
              "        text-align: right;\n",
              "    }\n",
              "</style>\n",
              "<table border=\"1\" class=\"dataframe\">\n",
              "  <thead>\n",
              "    <tr style=\"text-align: right;\">\n",
              "      <th></th>\n",
              "      <th>Score</th>\n",
              "      <th>Count</th>\n",
              "      <th>Relative-Freq</th>\n",
              "    </tr>\n",
              "  </thead>\n",
              "  <tbody>\n",
              "    <tr>\n",
              "      <th>0</th>\n",
              "      <td>[40 - 50)</td>\n",
              "      <td>1</td>\n",
              "      <td>0.07</td>\n",
              "    </tr>\n",
              "    <tr>\n",
              "      <th>1</th>\n",
              "      <td>[50 - 60)</td>\n",
              "      <td>2</td>\n",
              "      <td>0.13</td>\n",
              "    </tr>\n",
              "    <tr>\n",
              "      <th>2</th>\n",
              "      <td>[60 - 70)</td>\n",
              "      <td>4</td>\n",
              "      <td>0.27</td>\n",
              "    </tr>\n",
              "    <tr>\n",
              "      <th>3</th>\n",
              "      <td>[70 - 80)</td>\n",
              "      <td>5</td>\n",
              "      <td>0.33</td>\n",
              "    </tr>\n",
              "    <tr>\n",
              "      <th>4</th>\n",
              "      <td>[80 - 90)</td>\n",
              "      <td>2</td>\n",
              "      <td>0.13</td>\n",
              "    </tr>\n",
              "    <tr>\n",
              "      <th>5</th>\n",
              "      <td>[90 - 100)</td>\n",
              "      <td>1</td>\n",
              "      <td>0.07</td>\n",
              "    </tr>\n",
              "    <tr>\n",
              "      <th>6</th>\n",
              "      <td>Total</td>\n",
              "      <td>15</td>\n",
              "      <td></td>\n",
              "    </tr>\n",
              "  </tbody>\n",
              "</table>\n",
              "</div>"
            ],
            "text/plain": [
              "        Score  Count Relative-Freq\n",
              "0   [40 - 50)      1          0.07\n",
              "1   [50 - 60)      2          0.13\n",
              "2   [60 - 70)      4          0.27\n",
              "3   [70 - 80)      5          0.33\n",
              "4   [80 - 90)      2          0.13\n",
              "5  [90 - 100)      1          0.07\n",
              "6       Total     15              "
            ]
          },
          "metadata": {
            "tags": []
          },
          "execution_count": 7
        }
      ]
    },
    {
      "cell_type": "code",
      "metadata": {
        "id": "TltnCrypClJN",
        "colab_type": "code",
        "outputId": "a94ac54f-533a-4f70-ec09-f45b7e347ddb",
        "colab": {
          "base_uri": "https://localhost:8080/",
          "height": 254
        }
      },
      "source": [
        "# let's append a column made up of the Relative-Freqs as a percentage\n",
        "\n",
        "exams_df['Freq-%'] = exams_df['Relative-Freq'] * 100\n",
        "\n",
        "# Display exams_df\n",
        "exams_df"
      ],
      "execution_count": 8,
      "outputs": [
        {
          "output_type": "execute_result",
          "data": {
            "text/html": [
              "<div>\n",
              "<style scoped>\n",
              "    .dataframe tbody tr th:only-of-type {\n",
              "        vertical-align: middle;\n",
              "    }\n",
              "\n",
              "    .dataframe tbody tr th {\n",
              "        vertical-align: top;\n",
              "    }\n",
              "\n",
              "    .dataframe thead th {\n",
              "        text-align: right;\n",
              "    }\n",
              "</style>\n",
              "<table border=\"1\" class=\"dataframe\">\n",
              "  <thead>\n",
              "    <tr style=\"text-align: right;\">\n",
              "      <th></th>\n",
              "      <th>Score</th>\n",
              "      <th>Count</th>\n",
              "      <th>Relative-Freq</th>\n",
              "      <th>Freq-%</th>\n",
              "    </tr>\n",
              "  </thead>\n",
              "  <tbody>\n",
              "    <tr>\n",
              "      <th>0</th>\n",
              "      <td>[40 - 50)</td>\n",
              "      <td>1</td>\n",
              "      <td>0.07</td>\n",
              "      <td>7</td>\n",
              "    </tr>\n",
              "    <tr>\n",
              "      <th>1</th>\n",
              "      <td>[50 - 60)</td>\n",
              "      <td>2</td>\n",
              "      <td>0.13</td>\n",
              "      <td>13</td>\n",
              "    </tr>\n",
              "    <tr>\n",
              "      <th>2</th>\n",
              "      <td>[60 - 70)</td>\n",
              "      <td>4</td>\n",
              "      <td>0.27</td>\n",
              "      <td>27</td>\n",
              "    </tr>\n",
              "    <tr>\n",
              "      <th>3</th>\n",
              "      <td>[70 - 80)</td>\n",
              "      <td>5</td>\n",
              "      <td>0.33</td>\n",
              "      <td>33</td>\n",
              "    </tr>\n",
              "    <tr>\n",
              "      <th>4</th>\n",
              "      <td>[80 - 90)</td>\n",
              "      <td>2</td>\n",
              "      <td>0.13</td>\n",
              "      <td>13</td>\n",
              "    </tr>\n",
              "    <tr>\n",
              "      <th>5</th>\n",
              "      <td>[90 - 100)</td>\n",
              "      <td>1</td>\n",
              "      <td>0.07</td>\n",
              "      <td>7</td>\n",
              "    </tr>\n",
              "    <tr>\n",
              "      <th>6</th>\n",
              "      <td>Total</td>\n",
              "      <td>15</td>\n",
              "      <td></td>\n",
              "      <td>...</td>\n",
              "    </tr>\n",
              "  </tbody>\n",
              "</table>\n",
              "</div>"
            ],
            "text/plain": [
              "        Score  Count Relative-Freq  \\\n",
              "0   [40 - 50)      1          0.07   \n",
              "1   [50 - 60)      2          0.13   \n",
              "2   [60 - 70)      4          0.27   \n",
              "3   [70 - 80)      5          0.33   \n",
              "4   [80 - 90)      2          0.13   \n",
              "5  [90 - 100)      1          0.07   \n",
              "6       Total     15                 \n",
              "\n",
              "                                              Freq-%  \n",
              "0                                                  7  \n",
              "1                                                 13  \n",
              "2                                                 27  \n",
              "3                                                 33  \n",
              "4                                                 13  \n",
              "5                                                  7  \n",
              "6                                                ...  "
            ]
          },
          "metadata": {
            "tags": []
          },
          "execution_count": 8
        }
      ]
    },
    {
      "cell_type": "markdown",
      "metadata": {
        "id": "up9dhTM_ClJQ",
        "colab_type": "text"
      },
      "source": [
        "<h3>Determining the number of scores for an interval or range of values</h3><br>It is also possible to determine the number of scores for an interval, if you have the total number of observations and the relative frequency for that interval.<br>We can determine the number of scores by multiplying the total number of observations by the relative frequency and rounding up to the next whole number<br>For example, 15 * 0.13 = 1.95, which rounds up to 2 observations."
      ]
    },
    {
      "cell_type": "markdown",
      "metadata": {
        "id": "_u2Hx7CjClJS",
        "colab_type": "text"
      },
      "source": [
        "<h3>Exercise</h3>"
      ]
    },
    {
      "cell_type": "code",
      "metadata": {
        "id": "EVzIsS8lClJT",
        "colab_type": "code",
        "colab": {}
      },
      "source": [
        "list1 = [0,1,1,2,3,3,2,2,3,2,3,2,6,7,6,7,6,7,9,8,9,10,11,15,19]\n",
        "bin = [0,2,4,6,8,10,12,14,16,18,20,22]"
      ],
      "execution_count": 0,
      "outputs": []
    },
    {
      "cell_type": "code",
      "metadata": {
        "id": "ByZ_uP7YClJX",
        "colab_type": "code",
        "outputId": "3229a04c-0e63-4dd5-9d8e-869b404e4d41",
        "colab": {
          "base_uri": "https://localhost:8080/",
          "height": 309
        }
      },
      "source": [
        "plt.figure(figsize=(6,4))\n",
        "plt.title('Students Study-Time')\n",
        "plt.xlabel('Hours')\n",
        "plt.ylabel('Num_Students')\n",
        "plt.grid(color='b')\n",
        "plt.hist(list1, bins=bin, histtype='bar', edgecolor='w', color='r')\n",
        "plt.show()"
      ],
      "execution_count": 10,
      "outputs": [
        {
          "output_type": "display_data",
          "data": {
            "image/png": "[encoded data removed]",
            "text/plain": [
              "<Figure size 432x288 with 1 Axes>"
            ]
          },
          "metadata": {
            "tags": []
          }
        }
      ]
    },
    {
      "cell_type": "code",
      "metadata": {
        "id": "VMrnUyNMClJa",
        "colab_type": "code",
        "colab": {}
      },
      "source": [
        "study = {'Hours': ['[0-2)', '[2-4)', '[4-6)', '[6-8)', '[8-10)', '[10-12)', '[12-14)', '[14-16)', '[16-18)', '[18-20)', '[20-22)'],\n",
        "    'Students':[3, 9, 0, 6, 3, 2, 0, 1, 0, 1, 0]}"
      ],
      "execution_count": 0,
      "outputs": []
    },
    {
      "cell_type": "code",
      "metadata": {
        "id": "fLO7IqLvClJd",
        "colab_type": "code",
        "outputId": "9389a9bc-0a29-4255-be04-3fc77161be92",
        "colab": {
          "base_uri": "https://localhost:8080/",
          "height": 195
        }
      },
      "source": [
        "study_df = pd.DataFrame(study)\n",
        "study_df.head()"
      ],
      "execution_count": 12,
      "outputs": [
        {
          "output_type": "execute_result",
          "data": {
            "text/html": [
              "<div>\n",
              "<style scoped>\n",
              "    .dataframe tbody tr th:only-of-type {\n",
              "        vertical-align: middle;\n",
              "    }\n",
              "\n",
              "    .dataframe tbody tr th {\n",
              "        vertical-align: top;\n",
              "    }\n",
              "\n",
              "    .dataframe thead th {\n",
              "        text-align: right;\n",
              "    }\n",
              "</style>\n",
              "<table border=\"1\" class=\"dataframe\">\n",
              "  <thead>\n",
              "    <tr style=\"text-align: right;\">\n",
              "      <th></th>\n",
              "      <th>Hours</th>\n",
              "      <th>Students</th>\n",
              "    </tr>\n",
              "  </thead>\n",
              "  <tbody>\n",
              "    <tr>\n",
              "      <th>0</th>\n",
              "      <td>[0-2)</td>\n",
              "      <td>3</td>\n",
              "    </tr>\n",
              "    <tr>\n",
              "      <th>1</th>\n",
              "      <td>[2-4)</td>\n",
              "      <td>9</td>\n",
              "    </tr>\n",
              "    <tr>\n",
              "      <th>2</th>\n",
              "      <td>[4-6)</td>\n",
              "      <td>0</td>\n",
              "    </tr>\n",
              "    <tr>\n",
              "      <th>3</th>\n",
              "      <td>[6-8)</td>\n",
              "      <td>6</td>\n",
              "    </tr>\n",
              "    <tr>\n",
              "      <th>4</th>\n",
              "      <td>[8-10)</td>\n",
              "      <td>3</td>\n",
              "    </tr>\n",
              "  </tbody>\n",
              "</table>\n",
              "</div>"
            ],
            "text/plain": [
              "    Hours  Students\n",
              "0   [0-2)         3\n",
              "1   [2-4)         9\n",
              "2   [4-6)         0\n",
              "3   [6-8)         6\n",
              "4  [8-10)         3"
            ]
          },
          "metadata": {
            "tags": []
          },
          "execution_count": 12
        }
      ]
    },
    {
      "cell_type": "code",
      "metadata": {
        "id": "b8M9RcDQClJg",
        "colab_type": "code",
        "colab": {}
      },
      "source": [
        "# Compute the total number of students\n",
        "\n",
        "total = sum(study_df['Students'])"
      ],
      "execution_count": 0,
      "outputs": []
    },
    {
      "cell_type": "code",
      "metadata": {
        "id": "xHH7KXnPClJj",
        "colab_type": "code",
        "colab": {}
      },
      "source": [
        "#Append the relative frequency distribution and frequency percentage distribution to the table\n",
        "\n",
        "study_df['Rela-Freq'] = study_df['Students'] / total\n",
        "study_df['Freq-%'] = study_df['Rela-Freq'] * 100\n",
        "list2 = {'Hours':'Total','Students':sum(study_df['Students']),\n",
        "         'Rela-Freq':sum(study_df['Rela-Freq']),'Freq-%':sum(study_df['Freq-%'])}"
      ],
      "execution_count": 0,
      "outputs": []
    },
    {
      "cell_type": "code",
      "metadata": {
        "id": "_g2Q7G7JClJn",
        "colab_type": "code",
        "colab": {}
      },
      "source": [
        "# Finally append the total and summary rows\n",
        "\n",
        "study_df = study_df.append(list2, ignore_index=True)"
      ],
      "execution_count": 0,
      "outputs": []
    },
    {
      "cell_type": "code",
      "metadata": {
        "id": "1gW83vHjClJq",
        "colab_type": "code",
        "outputId": "1538ea2d-fd35-44c0-c323-9c0bf4b558ae",
        "colab": {
          "base_uri": "https://localhost:8080/",
          "height": 402
        }
      },
      "source": [
        "study_df"
      ],
      "execution_count": 16,
      "outputs": [
        {
          "output_type": "execute_result",
          "data": {
            "text/html": [
              "<div>\n",
              "<style scoped>\n",
              "    .dataframe tbody tr th:only-of-type {\n",
              "        vertical-align: middle;\n",
              "    }\n",
              "\n",
              "    .dataframe tbody tr th {\n",
              "        vertical-align: top;\n",
              "    }\n",
              "\n",
              "    .dataframe thead th {\n",
              "        text-align: right;\n",
              "    }\n",
              "</style>\n",
              "<table border=\"1\" class=\"dataframe\">\n",
              "  <thead>\n",
              "    <tr style=\"text-align: right;\">\n",
              "      <th></th>\n",
              "      <th>Hours</th>\n",
              "      <th>Students</th>\n",
              "      <th>Rela-Freq</th>\n",
              "      <th>Freq-%</th>\n",
              "    </tr>\n",
              "  </thead>\n",
              "  <tbody>\n",
              "    <tr>\n",
              "      <th>0</th>\n",
              "      <td>[0-2)</td>\n",
              "      <td>3</td>\n",
              "      <td>0.12</td>\n",
              "      <td>12.0</td>\n",
              "    </tr>\n",
              "    <tr>\n",
              "      <th>1</th>\n",
              "      <td>[2-4)</td>\n",
              "      <td>9</td>\n",
              "      <td>0.36</td>\n",
              "      <td>36.0</td>\n",
              "    </tr>\n",
              "    <tr>\n",
              "      <th>2</th>\n",
              "      <td>[4-6)</td>\n",
              "      <td>0</td>\n",
              "      <td>0.00</td>\n",
              "      <td>0.0</td>\n",
              "    </tr>\n",
              "    <tr>\n",
              "      <th>3</th>\n",
              "      <td>[6-8)</td>\n",
              "      <td>6</td>\n",
              "      <td>0.24</td>\n",
              "      <td>24.0</td>\n",
              "    </tr>\n",
              "    <tr>\n",
              "      <th>4</th>\n",
              "      <td>[8-10)</td>\n",
              "      <td>3</td>\n",
              "      <td>0.12</td>\n",
              "      <td>12.0</td>\n",
              "    </tr>\n",
              "    <tr>\n",
              "      <th>5</th>\n",
              "      <td>[10-12)</td>\n",
              "      <td>2</td>\n",
              "      <td>0.08</td>\n",
              "      <td>8.0</td>\n",
              "    </tr>\n",
              "    <tr>\n",
              "      <th>6</th>\n",
              "      <td>[12-14)</td>\n",
              "      <td>0</td>\n",
              "      <td>0.00</td>\n",
              "      <td>0.0</td>\n",
              "    </tr>\n",
              "    <tr>\n",
              "      <th>7</th>\n",
              "      <td>[14-16)</td>\n",
              "      <td>1</td>\n",
              "      <td>0.04</td>\n",
              "      <td>4.0</td>\n",
              "    </tr>\n",
              "    <tr>\n",
              "      <th>8</th>\n",
              "      <td>[16-18)</td>\n",
              "      <td>0</td>\n",
              "      <td>0.00</td>\n",
              "      <td>0.0</td>\n",
              "    </tr>\n",
              "    <tr>\n",
              "      <th>9</th>\n",
              "      <td>[18-20)</td>\n",
              "      <td>1</td>\n",
              "      <td>0.04</td>\n",
              "      <td>4.0</td>\n",
              "    </tr>\n",
              "    <tr>\n",
              "      <th>10</th>\n",
              "      <td>[20-22)</td>\n",
              "      <td>0</td>\n",
              "      <td>0.00</td>\n",
              "      <td>0.0</td>\n",
              "    </tr>\n",
              "    <tr>\n",
              "      <th>11</th>\n",
              "      <td>Total</td>\n",
              "      <td>25</td>\n",
              "      <td>1.00</td>\n",
              "      <td>100.0</td>\n",
              "    </tr>\n",
              "  </tbody>\n",
              "</table>\n",
              "</div>"
            ],
            "text/plain": [
              "      Hours  Students  Rela-Freq  Freq-%\n",
              "0     [0-2)         3       0.12    12.0\n",
              "1     [2-4)         9       0.36    36.0\n",
              "2     [4-6)         0       0.00     0.0\n",
              "3     [6-8)         6       0.24    24.0\n",
              "4    [8-10)         3       0.12    12.0\n",
              "5   [10-12)         2       0.08     8.0\n",
              "6   [12-14)         0       0.00     0.0\n",
              "7   [14-16)         1       0.04     4.0\n",
              "8   [16-18)         0       0.00     0.0\n",
              "9   [18-20)         1       0.04     4.0\n",
              "10  [20-22)         0       0.00     0.0\n",
              "11    Total        25       1.00   100.0"
            ]
          },
          "metadata": {
            "tags": []
          },
          "execution_count": 16
        }
      ]
    },
    {
      "cell_type": "code",
      "metadata": {
        "id": "awRtdY2fClJt",
        "colab_type": "code",
        "outputId": "4e2717c2-aa03-4b6b-f54e-7334f5ef7c41",
        "colab": {
          "base_uri": "https://localhost:8080/",
          "height": 34
        }
      },
      "source": [
        "#What percentage of students study 6 or more hours for the midterm?\n",
        "\n",
        "x = study_df[(study_df.index>=3) & (study_df.index<11)]\n",
        "x = sum(x['Freq-%'])\n",
        "x"
      ],
      "execution_count": 17,
      "outputs": [
        {
          "output_type": "execute_result",
          "data": {
            "text/plain": [
              "52.0"
            ]
          },
          "metadata": {
            "tags": []
          },
          "execution_count": 17
        }
      ]
    },
    {
      "cell_type": "markdown",
      "metadata": {
        "id": "OUcO_ScvClJw",
        "colab_type": "text"
      },
      "source": [
        "<h3>Extra Problems</h3>"
      ]
    },
    {
      "cell_type": "code",
      "metadata": {
        "id": "5ie47umrClJw",
        "colab_type": "code",
        "colab": {}
      },
      "source": [
        "list3 = [0,1,1,1,1,2,2,2,2,2,3,3,3,3,3,3,3,3,3,3,4,4,4,4,4,4,4,4,5,5,5,7]\n",
        "bin = [0,1,2,3,4,5,6,7,8]"
      ],
      "execution_count": 0,
      "outputs": []
    },
    {
      "cell_type": "code",
      "metadata": {
        "id": "0oUtbc7nClJz",
        "colab_type": "code",
        "outputId": "603d88a4-d215-4ddc-a840-78e41a57aee0",
        "colab": {
          "base_uri": "https://localhost:8080/",
          "height": 309
        }
      },
      "source": [
        "plt.figure(figsize=(6,4))\n",
        "plt.title('Fruits and Vegetables Daily')\n",
        "plt.xlabel('Daily Portions')\n",
        "plt.ylabel('Frequency')\n",
        "plt.hist(list3, bins=bin, histtype ='bar',edgecolor='w')\n",
        "plt.show()"
      ],
      "execution_count": 19,
      "outputs": [
        {
          "output_type": "display_data",
          "data": {
            "image/png": "[encoded data removed]",
            "text/plain": [
              "<Figure size 432x288 with 1 Axes>"
            ]
          },
          "metadata": {
            "tags": []
          }
        }
      ]
    },
    {
      "cell_type": "code",
      "metadata": {
        "id": "L-k00nLZClJ1",
        "colab_type": "code",
        "colab": {}
      },
      "source": [
        "fruits = {'Freq':[1, 4, 5, 10, 8, 3, 0, 1],\n",
        "         'Portions':[0, 1, 2, 3, 4, 5, 6, 7]}"
      ],
      "execution_count": 0,
      "outputs": []
    },
    {
      "cell_type": "code",
      "metadata": {
        "id": "nR9NZoUOClJ3",
        "colab_type": "code",
        "outputId": "60f819d1-8955-4047-8acb-88ffe9e6a95f",
        "colab": {
          "base_uri": "https://localhost:8080/",
          "height": 284
        }
      },
      "source": [
        "fruit_df = pd.DataFrame(fruits)\n",
        "fruit_df"
      ],
      "execution_count": 21,
      "outputs": [
        {
          "output_type": "execute_result",
          "data": {
            "text/html": [
              "<div>\n",
              "<style scoped>\n",
              "    .dataframe tbody tr th:only-of-type {\n",
              "        vertical-align: middle;\n",
              "    }\n",
              "\n",
              "    .dataframe tbody tr th {\n",
              "        vertical-align: top;\n",
              "    }\n",
              "\n",
              "    .dataframe thead th {\n",
              "        text-align: right;\n",
              "    }\n",
              "</style>\n",
              "<table border=\"1\" class=\"dataframe\">\n",
              "  <thead>\n",
              "    <tr style=\"text-align: right;\">\n",
              "      <th></th>\n",
              "      <th>Freq</th>\n",
              "      <th>Portions</th>\n",
              "    </tr>\n",
              "  </thead>\n",
              "  <tbody>\n",
              "    <tr>\n",
              "      <th>0</th>\n",
              "      <td>1</td>\n",
              "      <td>0</td>\n",
              "    </tr>\n",
              "    <tr>\n",
              "      <th>1</th>\n",
              "      <td>4</td>\n",
              "      <td>1</td>\n",
              "    </tr>\n",
              "    <tr>\n",
              "      <th>2</th>\n",
              "      <td>5</td>\n",
              "      <td>2</td>\n",
              "    </tr>\n",
              "    <tr>\n",
              "      <th>3</th>\n",
              "      <td>10</td>\n",
              "      <td>3</td>\n",
              "    </tr>\n",
              "    <tr>\n",
              "      <th>4</th>\n",
              "      <td>8</td>\n",
              "      <td>4</td>\n",
              "    </tr>\n",
              "    <tr>\n",
              "      <th>5</th>\n",
              "      <td>3</td>\n",
              "      <td>5</td>\n",
              "    </tr>\n",
              "    <tr>\n",
              "      <th>6</th>\n",
              "      <td>0</td>\n",
              "      <td>6</td>\n",
              "    </tr>\n",
              "    <tr>\n",
              "      <th>7</th>\n",
              "      <td>1</td>\n",
              "      <td>7</td>\n",
              "    </tr>\n",
              "  </tbody>\n",
              "</table>\n",
              "</div>"
            ],
            "text/plain": [
              "   Freq  Portions\n",
              "0     1         0\n",
              "1     4         1\n",
              "2     5         2\n",
              "3    10         3\n",
              "4     8         4\n",
              "5     3         5\n",
              "6     0         6\n",
              "7     1         7"
            ]
          },
          "metadata": {
            "tags": []
          },
          "execution_count": 21
        }
      ]
    },
    {
      "cell_type": "code",
      "metadata": {
        "id": "Cm5LxkIWClJ6",
        "colab_type": "code",
        "colab": {}
      },
      "source": [
        "# Now let's add the relative frequency column, freq-pct and summary details\n",
        "\n",
        "fruit_df['Rela-Freq'] = fruit_df['Freq'] / sum(fruit_df['Freq'])\n",
        "\n",
        "fruit_df['Freq-%'] = fruit_df['Rela-Freq'] * 100\n",
        "\n",
        "total = {'Freq':sum(fruit_df['Freq']),'Portions':sum(fruit_df['Portions']),\n",
        "         'Rela-Freq':sum(fruit_df['Rela-Freq']),'Freq-%':sum(fruit_df['Freq-%'])}"
      ],
      "execution_count": 0,
      "outputs": []
    },
    {
      "cell_type": "code",
      "metadata": {
        "id": "bkaUKdfTClJ8",
        "colab_type": "code",
        "colab": {}
      },
      "source": [
        "fruit_df = fruit_df.append(total, ignore_index=True)\n",
        "fruit_df.index = [0, 1, 2, 3, 4, 5, 6, 7, 'Total']"
      ],
      "execution_count": 0,
      "outputs": []
    },
    {
      "cell_type": "code",
      "metadata": {
        "id": "bzMP5KRsClJ_",
        "colab_type": "code",
        "outputId": "20093c29-5b97-47aa-8c9b-f36177c7d06a",
        "colab": {
          "base_uri": "https://localhost:8080/",
          "height": 314
        }
      },
      "source": [
        "fruit_df"
      ],
      "execution_count": 24,
      "outputs": [
        {
          "output_type": "execute_result",
          "data": {
            "text/html": [
              "<div>\n",
              "<style scoped>\n",
              "    .dataframe tbody tr th:only-of-type {\n",
              "        vertical-align: middle;\n",
              "    }\n",
              "\n",
              "    .dataframe tbody tr th {\n",
              "        vertical-align: top;\n",
              "    }\n",
              "\n",
              "    .dataframe thead th {\n",
              "        text-align: right;\n",
              "    }\n",
              "</style>\n",
              "<table border=\"1\" class=\"dataframe\">\n",
              "  <thead>\n",
              "    <tr style=\"text-align: right;\">\n",
              "      <th></th>\n",
              "      <th>Freq</th>\n",
              "      <th>Portions</th>\n",
              "      <th>Rela-Freq</th>\n",
              "      <th>Freq-%</th>\n",
              "    </tr>\n",
              "  </thead>\n",
              "  <tbody>\n",
              "    <tr>\n",
              "      <th>0</th>\n",
              "      <td>1.0</td>\n",
              "      <td>0.0</td>\n",
              "      <td>0.03125</td>\n",
              "      <td>3.125</td>\n",
              "    </tr>\n",
              "    <tr>\n",
              "      <th>1</th>\n",
              "      <td>4.0</td>\n",
              "      <td>1.0</td>\n",
              "      <td>0.12500</td>\n",
              "      <td>12.500</td>\n",
              "    </tr>\n",
              "    <tr>\n",
              "      <th>2</th>\n",
              "      <td>5.0</td>\n",
              "      <td>2.0</td>\n",
              "      <td>0.15625</td>\n",
              "      <td>15.625</td>\n",
              "    </tr>\n",
              "    <tr>\n",
              "      <th>3</th>\n",
              "      <td>10.0</td>\n",
              "      <td>3.0</td>\n",
              "      <td>0.31250</td>\n",
              "      <td>31.250</td>\n",
              "    </tr>\n",
              "    <tr>\n",
              "      <th>4</th>\n",
              "      <td>8.0</td>\n",
              "      <td>4.0</td>\n",
              "      <td>0.25000</td>\n",
              "      <td>25.000</td>\n",
              "    </tr>\n",
              "    <tr>\n",
              "      <th>5</th>\n",
              "      <td>3.0</td>\n",
              "      <td>5.0</td>\n",
              "      <td>0.09375</td>\n",
              "      <td>9.375</td>\n",
              "    </tr>\n",
              "    <tr>\n",
              "      <th>6</th>\n",
              "      <td>0.0</td>\n",
              "      <td>6.0</td>\n",
              "      <td>0.00000</td>\n",
              "      <td>0.000</td>\n",
              "    </tr>\n",
              "    <tr>\n",
              "      <th>7</th>\n",
              "      <td>1.0</td>\n",
              "      <td>7.0</td>\n",
              "      <td>0.03125</td>\n",
              "      <td>3.125</td>\n",
              "    </tr>\n",
              "    <tr>\n",
              "      <th>Total</th>\n",
              "      <td>32.0</td>\n",
              "      <td>28.0</td>\n",
              "      <td>1.00000</td>\n",
              "      <td>100.000</td>\n",
              "    </tr>\n",
              "  </tbody>\n",
              "</table>\n",
              "</div>"
            ],
            "text/plain": [
              "       Freq  Portions  Rela-Freq   Freq-%\n",
              "0       1.0       0.0    0.03125    3.125\n",
              "1       4.0       1.0    0.12500   12.500\n",
              "2       5.0       2.0    0.15625   15.625\n",
              "3      10.0       3.0    0.31250   31.250\n",
              "4       8.0       4.0    0.25000   25.000\n",
              "5       3.0       5.0    0.09375    9.375\n",
              "6       0.0       6.0    0.00000    0.000\n",
              "7       1.0       7.0    0.03125    3.125\n",
              "Total  32.0      28.0    1.00000  100.000"
            ]
          },
          "metadata": {
            "tags": []
          },
          "execution_count": 24
        }
      ]
    },
    {
      "cell_type": "markdown",
      "metadata": {
        "id": "9a1x4vsSClKC",
        "colab_type": "text"
      },
      "source": [
        "#### How many of the students surveyed eat at least 4 servings of fruits and vegetables daily?"
      ]
    },
    {
      "cell_type": "code",
      "metadata": {
        "id": "jZCI4nepClKC",
        "colab_type": "code",
        "outputId": "a4eeb52e-8e59-49bc-8657-40afec7f9431",
        "colab": {
          "base_uri": "https://localhost:8080/",
          "height": 166
        }
      },
      "source": [
        "y = fruit_df[np.logical_and(fruit_df['Portions']>=4, fruit_df['Portions']<28)]\n",
        "y"
      ],
      "execution_count": 25,
      "outputs": [
        {
          "output_type": "execute_result",
          "data": {
            "text/html": [
              "<div>\n",
              "<style scoped>\n",
              "    .dataframe tbody tr th:only-of-type {\n",
              "        vertical-align: middle;\n",
              "    }\n",
              "\n",
              "    .dataframe tbody tr th {\n",
              "        vertical-align: top;\n",
              "    }\n",
              "\n",
              "    .dataframe thead th {\n",
              "        text-align: right;\n",
              "    }\n",
              "</style>\n",
              "<table border=\"1\" class=\"dataframe\">\n",
              "  <thead>\n",
              "    <tr style=\"text-align: right;\">\n",
              "      <th></th>\n",
              "      <th>Freq</th>\n",
              "      <th>Portions</th>\n",
              "      <th>Rela-Freq</th>\n",
              "      <th>Freq-%</th>\n",
              "    </tr>\n",
              "  </thead>\n",
              "  <tbody>\n",
              "    <tr>\n",
              "      <th>4</th>\n",
              "      <td>8.0</td>\n",
              "      <td>4.0</td>\n",
              "      <td>0.25000</td>\n",
              "      <td>25.000</td>\n",
              "    </tr>\n",
              "    <tr>\n",
              "      <th>5</th>\n",
              "      <td>3.0</td>\n",
              "      <td>5.0</td>\n",
              "      <td>0.09375</td>\n",
              "      <td>9.375</td>\n",
              "    </tr>\n",
              "    <tr>\n",
              "      <th>6</th>\n",
              "      <td>0.0</td>\n",
              "      <td>6.0</td>\n",
              "      <td>0.00000</td>\n",
              "      <td>0.000</td>\n",
              "    </tr>\n",
              "    <tr>\n",
              "      <th>7</th>\n",
              "      <td>1.0</td>\n",
              "      <td>7.0</td>\n",
              "      <td>0.03125</td>\n",
              "      <td>3.125</td>\n",
              "    </tr>\n",
              "  </tbody>\n",
              "</table>\n",
              "</div>"
            ],
            "text/plain": [
              "   Freq  Portions  Rela-Freq  Freq-%\n",
              "4   8.0       4.0    0.25000  25.000\n",
              "5   3.0       5.0    0.09375   9.375\n",
              "6   0.0       6.0    0.00000   0.000\n",
              "7   1.0       7.0    0.03125   3.125"
            ]
          },
          "metadata": {
            "tags": []
          },
          "execution_count": 25
        }
      ]
    },
    {
      "cell_type": "code",
      "metadata": {
        "id": "iVId7yC0ClKG",
        "colab_type": "code",
        "outputId": "15f1dd38-0367-49c4-da42-5e4347ea61d7",
        "colab": {
          "base_uri": "https://localhost:8080/",
          "height": 34
        }
      },
      "source": [
        "# Number of students that eat atleast 4 servings of fruits and veges daily is\n",
        "\n",
        "sum(y['Freq'])"
      ],
      "execution_count": 26,
      "outputs": [
        {
          "output_type": "execute_result",
          "data": {
            "text/plain": [
              "12.0"
            ]
          },
          "metadata": {
            "tags": []
          },
          "execution_count": 26
        }
      ]
    },
    {
      "cell_type": "markdown",
      "metadata": {
        "id": "FzaVg3ZLClKI",
        "colab_type": "text"
      },
      "source": [
        "#### What percentage of the students surveyed eat no more than 3 servings of fruits and vegetables daily?"
      ]
    },
    {
      "cell_type": "code",
      "metadata": {
        "id": "2UHtSI8tClKK",
        "colab_type": "code",
        "outputId": "8d0ca2f7-78a4-4dc0-c1c8-3d041af37269",
        "colab": {
          "base_uri": "https://localhost:8080/",
          "height": 166
        }
      },
      "source": [
        "x = fruit_df[fruit_df['Portions']<=3]\n",
        "x"
      ],
      "execution_count": 27,
      "outputs": [
        {
          "output_type": "execute_result",
          "data": {
            "text/html": [
              "<div>\n",
              "<style scoped>\n",
              "    .dataframe tbody tr th:only-of-type {\n",
              "        vertical-align: middle;\n",
              "    }\n",
              "\n",
              "    .dataframe tbody tr th {\n",
              "        vertical-align: top;\n",
              "    }\n",
              "\n",
              "    .dataframe thead th {\n",
              "        text-align: right;\n",
              "    }\n",
              "</style>\n",
              "<table border=\"1\" class=\"dataframe\">\n",
              "  <thead>\n",
              "    <tr style=\"text-align: right;\">\n",
              "      <th></th>\n",
              "      <th>Freq</th>\n",
              "      <th>Portions</th>\n",
              "      <th>Rela-Freq</th>\n",
              "      <th>Freq-%</th>\n",
              "    </tr>\n",
              "  </thead>\n",
              "  <tbody>\n",
              "    <tr>\n",
              "      <th>0</th>\n",
              "      <td>1.0</td>\n",
              "      <td>0.0</td>\n",
              "      <td>0.03125</td>\n",
              "      <td>3.125</td>\n",
              "    </tr>\n",
              "    <tr>\n",
              "      <th>1</th>\n",
              "      <td>4.0</td>\n",
              "      <td>1.0</td>\n",
              "      <td>0.12500</td>\n",
              "      <td>12.500</td>\n",
              "    </tr>\n",
              "    <tr>\n",
              "      <th>2</th>\n",
              "      <td>5.0</td>\n",
              "      <td>2.0</td>\n",
              "      <td>0.15625</td>\n",
              "      <td>15.625</td>\n",
              "    </tr>\n",
              "    <tr>\n",
              "      <th>3</th>\n",
              "      <td>10.0</td>\n",
              "      <td>3.0</td>\n",
              "      <td>0.31250</td>\n",
              "      <td>31.250</td>\n",
              "    </tr>\n",
              "  </tbody>\n",
              "</table>\n",
              "</div>"
            ],
            "text/plain": [
              "   Freq  Portions  Rela-Freq  Freq-%\n",
              "0   1.0       0.0    0.03125   3.125\n",
              "1   4.0       1.0    0.12500  12.500\n",
              "2   5.0       2.0    0.15625  15.625\n",
              "3  10.0       3.0    0.31250  31.250"
            ]
          },
          "metadata": {
            "tags": []
          },
          "execution_count": 27
        }
      ]
    },
    {
      "cell_type": "code",
      "metadata": {
        "id": "vLh6v566ClKM",
        "colab_type": "code",
        "outputId": "62a34eec-4947-4ec2-9048-8baff2ca27af",
        "colab": {
          "base_uri": "https://localhost:8080/",
          "height": 34
        }
      },
      "source": [
        "# the percent of students taht eat no more than 3 servings daily is \n",
        "\n",
        "sum(x['Freq-%'])"
      ],
      "execution_count": 28,
      "outputs": [
        {
          "output_type": "execute_result",
          "data": {
            "text/plain": [
              "62.5"
            ]
          },
          "metadata": {
            "tags": []
          },
          "execution_count": 28
        }
      ]
    },
    {
      "cell_type": "markdown",
      "metadata": {
        "id": "CSTOJfCoClKO",
        "colab_type": "text"
      },
      "source": [
        "#### What proportion of the students surveyed eat exactly 5 servings of fruits and vegetables daily?\n",
        "<font color='red'>**By proportion it means what percentage?**</font>"
      ]
    },
    {
      "cell_type": "code",
      "metadata": {
        "id": "JSbSj5PIClKP",
        "colab_type": "code",
        "outputId": "78913bb0-8c7c-4ee5-fd8c-849175675515",
        "colab": {
          "base_uri": "https://localhost:8080/",
          "height": 77
        }
      },
      "source": [
        "y = fruit_df[fruit_df['Portions']==5]\n",
        "y"
      ],
      "execution_count": 29,
      "outputs": [
        {
          "output_type": "execute_result",
          "data": {
            "text/html": [
              "<div>\n",
              "<style scoped>\n",
              "    .dataframe tbody tr th:only-of-type {\n",
              "        vertical-align: middle;\n",
              "    }\n",
              "\n",
              "    .dataframe tbody tr th {\n",
              "        vertical-align: top;\n",
              "    }\n",
              "\n",
              "    .dataframe thead th {\n",
              "        text-align: right;\n",
              "    }\n",
              "</style>\n",
              "<table border=\"1\" class=\"dataframe\">\n",
              "  <thead>\n",
              "    <tr style=\"text-align: right;\">\n",
              "      <th></th>\n",
              "      <th>Freq</th>\n",
              "      <th>Portions</th>\n",
              "      <th>Rela-Freq</th>\n",
              "      <th>Freq-%</th>\n",
              "    </tr>\n",
              "  </thead>\n",
              "  <tbody>\n",
              "    <tr>\n",
              "      <th>5</th>\n",
              "      <td>3.0</td>\n",
              "      <td>5.0</td>\n",
              "      <td>0.09375</td>\n",
              "      <td>9.375</td>\n",
              "    </tr>\n",
              "  </tbody>\n",
              "</table>\n",
              "</div>"
            ],
            "text/plain": [
              "   Freq  Portions  Rela-Freq  Freq-%\n",
              "5   3.0       5.0    0.09375   9.375"
            ]
          },
          "metadata": {
            "tags": []
          },
          "execution_count": 29
        }
      ]
    },
    {
      "cell_type": "code",
      "metadata": {
        "id": "9KORc31NClKS",
        "colab_type": "code",
        "outputId": "a0939733-51e8-41e1-991c-c6a0bad8a435",
        "colab": {
          "base_uri": "https://localhost:8080/",
          "height": 34
        }
      },
      "source": [
        "# so therefore the answer is \n",
        "y.loc[5,'Freq-%']"
      ],
      "execution_count": 30,
      "outputs": [
        {
          "output_type": "execute_result",
          "data": {
            "text/plain": [
              "9.375"
            ]
          },
          "metadata": {
            "tags": []
          },
          "execution_count": 30
        }
      ]
    },
    {
      "cell_type": "markdown",
      "metadata": {
        "id": "aIoP-VRVClKU",
        "colab_type": "text"
      },
      "source": [
        "<h3>Extra Exercise</h3>\n",
        "A survey was conducted to see how many phone calls people made daily. The results are displayed in the table below:"
      ]
    },
    {
      "cell_type": "code",
      "metadata": {
        "id": "oBBkyv4uClKV",
        "colab_type": "code",
        "colab": {}
      },
      "source": [
        "dict1 = {'Number_Calls':['1 - 4','5 - 8','9 - 12','13 - 16','17 - 20'],\n",
        "         'Freq':[16, 11, 5, 3, 1]}"
      ],
      "execution_count": 0,
      "outputs": []
    },
    {
      "cell_type": "code",
      "metadata": {
        "id": "pIEy7HgIClKX",
        "colab_type": "code",
        "outputId": "b5d26282-247e-4381-815c-09e17afeb66d",
        "colab": {
          "base_uri": "https://localhost:8080/",
          "height": 195
        }
      },
      "source": [
        "calls_df = pd.DataFrame(dict1)\n",
        "calls_df"
      ],
      "execution_count": 32,
      "outputs": [
        {
          "output_type": "execute_result",
          "data": {
            "text/html": [
              "<div>\n",
              "<style scoped>\n",
              "    .dataframe tbody tr th:only-of-type {\n",
              "        vertical-align: middle;\n",
              "    }\n",
              "\n",
              "    .dataframe tbody tr th {\n",
              "        vertical-align: top;\n",
              "    }\n",
              "\n",
              "    .dataframe thead th {\n",
              "        text-align: right;\n",
              "    }\n",
              "</style>\n",
              "<table border=\"1\" class=\"dataframe\">\n",
              "  <thead>\n",
              "    <tr style=\"text-align: right;\">\n",
              "      <th></th>\n",
              "      <th>Number_Calls</th>\n",
              "      <th>Freq</th>\n",
              "    </tr>\n",
              "  </thead>\n",
              "  <tbody>\n",
              "    <tr>\n",
              "      <th>0</th>\n",
              "      <td>1 - 4</td>\n",
              "      <td>16</td>\n",
              "    </tr>\n",
              "    <tr>\n",
              "      <th>1</th>\n",
              "      <td>5 - 8</td>\n",
              "      <td>11</td>\n",
              "    </tr>\n",
              "    <tr>\n",
              "      <th>2</th>\n",
              "      <td>9 - 12</td>\n",
              "      <td>5</td>\n",
              "    </tr>\n",
              "    <tr>\n",
              "      <th>3</th>\n",
              "      <td>13 - 16</td>\n",
              "      <td>3</td>\n",
              "    </tr>\n",
              "    <tr>\n",
              "      <th>4</th>\n",
              "      <td>17 - 20</td>\n",
              "      <td>1</td>\n",
              "    </tr>\n",
              "  </tbody>\n",
              "</table>\n",
              "</div>"
            ],
            "text/plain": [
              "  Number_Calls  Freq\n",
              "0        1 - 4    16\n",
              "1        5 - 8    11\n",
              "2       9 - 12     5\n",
              "3      13 - 16     3\n",
              "4      17 - 20     1"
            ]
          },
          "metadata": {
            "tags": []
          },
          "execution_count": 32
        }
      ]
    },
    {
      "cell_type": "code",
      "metadata": {
        "id": "YiTz9UbYClKf",
        "colab_type": "code",
        "colab": {}
      },
      "source": [
        "calls_df['Rela-Freq'] = calls_df['Freq'] / sum(calls_df['Freq'])\n",
        "\n",
        "calls_df['Percent'] = calls_df['Rela-Freq'] * 100\n",
        "\n",
        "total = {'Number_Calls':'Total','Freq': sum(calls_df['Freq']), \n",
        "         'Rela-Freq':sum(calls_df['Rela-Freq']),'Percent':sum(calls_df['Percent'])}\n",
        "\n",
        "calls_df = calls_df.append(total, ignore_index=True)"
      ],
      "execution_count": 0,
      "outputs": []
    },
    {
      "cell_type": "code",
      "metadata": {
        "id": "PVjaoe4gClKi",
        "colab_type": "code",
        "outputId": "10d54698-82d3-4dfe-961f-346577ba2b48",
        "colab": {
          "base_uri": "https://localhost:8080/",
          "height": 225
        }
      },
      "source": [
        "calls_df"
      ],
      "execution_count": 34,
      "outputs": [
        {
          "output_type": "execute_result",
          "data": {
            "text/html": [
              "<div>\n",
              "<style scoped>\n",
              "    .dataframe tbody tr th:only-of-type {\n",
              "        vertical-align: middle;\n",
              "    }\n",
              "\n",
              "    .dataframe tbody tr th {\n",
              "        vertical-align: top;\n",
              "    }\n",
              "\n",
              "    .dataframe thead th {\n",
              "        text-align: right;\n",
              "    }\n",
              "</style>\n",
              "<table border=\"1\" class=\"dataframe\">\n",
              "  <thead>\n",
              "    <tr style=\"text-align: right;\">\n",
              "      <th></th>\n",
              "      <th>Number_Calls</th>\n",
              "      <th>Freq</th>\n",
              "      <th>Rela-Freq</th>\n",
              "      <th>Percent</th>\n",
              "    </tr>\n",
              "  </thead>\n",
              "  <tbody>\n",
              "    <tr>\n",
              "      <th>0</th>\n",
              "      <td>1 - 4</td>\n",
              "      <td>16</td>\n",
              "      <td>0.444444</td>\n",
              "      <td>44.444444</td>\n",
              "    </tr>\n",
              "    <tr>\n",
              "      <th>1</th>\n",
              "      <td>5 - 8</td>\n",
              "      <td>11</td>\n",
              "      <td>0.305556</td>\n",
              "      <td>30.555556</td>\n",
              "    </tr>\n",
              "    <tr>\n",
              "      <th>2</th>\n",
              "      <td>9 - 12</td>\n",
              "      <td>5</td>\n",
              "      <td>0.138889</td>\n",
              "      <td>13.888889</td>\n",
              "    </tr>\n",
              "    <tr>\n",
              "      <th>3</th>\n",
              "      <td>13 - 16</td>\n",
              "      <td>3</td>\n",
              "      <td>0.083333</td>\n",
              "      <td>8.333333</td>\n",
              "    </tr>\n",
              "    <tr>\n",
              "      <th>4</th>\n",
              "      <td>17 - 20</td>\n",
              "      <td>1</td>\n",
              "      <td>0.027778</td>\n",
              "      <td>2.777778</td>\n",
              "    </tr>\n",
              "    <tr>\n",
              "      <th>5</th>\n",
              "      <td>Total</td>\n",
              "      <td>36</td>\n",
              "      <td>1.000000</td>\n",
              "      <td>100.000000</td>\n",
              "    </tr>\n",
              "  </tbody>\n",
              "</table>\n",
              "</div>"
            ],
            "text/plain": [
              "  Number_Calls  Freq  Rela-Freq     Percent\n",
              "0        1 - 4    16   0.444444   44.444444\n",
              "1        5 - 8    11   0.305556   30.555556\n",
              "2       9 - 12     5   0.138889   13.888889\n",
              "3      13 - 16     3   0.083333    8.333333\n",
              "4      17 - 20     1   0.027778    2.777778\n",
              "5        Total    36   1.000000  100.000000"
            ]
          },
          "metadata": {
            "tags": []
          },
          "execution_count": 34
        }
      ]
    },
    {
      "cell_type": "markdown",
      "metadata": {
        "id": "W1jF-MrgClKl",
        "colab_type": "text"
      },
      "source": [
        "#### How many of the people surveyed make less than 9 phone calls daily?"
      ]
    },
    {
      "cell_type": "code",
      "metadata": {
        "id": "f6heT0VLClKm",
        "colab_type": "code",
        "colab": {}
      },
      "source": [
        "# x = sum(calls_df.iloc[:2,0])\n",
        "# x"
      ],
      "execution_count": 0,
      "outputs": []
    },
    {
      "cell_type": "markdown",
      "metadata": {
        "id": "17kwqcekClKr",
        "colab_type": "text"
      },
      "source": [
        "#### How many people were surveyed?"
      ]
    },
    {
      "cell_type": "code",
      "metadata": {
        "id": "Hi4LRkYBClKs",
        "colab_type": "code",
        "outputId": "d471d6ee-9ea6-489f-ff2d-5defd163b40b",
        "colab": {
          "base_uri": "https://localhost:8080/",
          "height": 34
        }
      },
      "source": [
        "calls_df.loc[5,'Freq']"
      ],
      "execution_count": 36,
      "outputs": [
        {
          "output_type": "execute_result",
          "data": {
            "text/plain": [
              "36"
            ]
          },
          "metadata": {
            "tags": []
          },
          "execution_count": 36
        }
      ]
    },
    {
      "cell_type": "markdown",
      "metadata": {
        "id": "ddtJF41AIzCW",
        "colab_type": "text"
      },
      "source": [
        "<h2>Interpreting the Histogram</h2>.\n",
        "\n",
        "Once the distribution has been displayed graphically, we can describe the overall pattern of the distribution and mention any striking deviations from that pattern. More specifically, we should consider the following features of the distribution:\n",
        "\n",
        "<img src='https://lagunita.stanford.edu/assets/courseware/v1/d5a9975812acea5db7369da3c3c26d6c/asset-v1:OLI+ProbStat+Open_Jan2017+type@asset+block/eda_examining_distributions_histogram10.gif'>\n",
        "\n",
        "We will get a sense of the overall pattern of the data from the histogram's center, spread and shape, while outliers will highlight deviations from that pattern.\n"
      ]
    },
    {
      "cell_type": "markdown",
      "metadata": {
        "id": "lC6bu3RvJgrQ",
        "colab_type": "text"
      },
      "source": [
        "<h3>Shape</h3>.\n",
        "When describing the shape of a distribution, we should consider:\n",
        "\n",
        "**Symmetry/skewness** of the distribution.<br>\n",
        "**Peakedness (modality)**—the number of peaks (modes) the distribution has.\n",
        "We distinguish between:\n",
        "<br>\n",
        "<br>\n",
        "\n",
        "<h3>Symmetric Distributions</h3><br>\n",
        "<font color='red'>**Symmetric means- made up of exactly similar parts facing each other or around an axis**</font>\n",
        "\n",
        "<img src='https://lagunita.stanford.edu/assets/courseware/v1/555d1de4be33e15667b6fe7fb76ab540/asset-v1:OLI+ProbStat+Open_Jan2017+type@asset+block/eda_examining_distributions_histogram2.gif' align= 'center'>\n",
        "<br>\n",
        "<img src='https://lagunita.stanford.edu/assets/courseware/v1/53757a95fdab73950f0ba6e95cac8748/asset-v1:OLI+ProbStat+Open_Jan2017+type@asset+block/eda_examining_distributions_histogram3.gif'>\n",
        "<br>\n",
        "<img src='https://lagunita.stanford.edu/assets/courseware/v1/28c908115c0f597fe349ce492f1d5f14/asset-v1:OLI+ProbStat+Open_Jan2017+type@asset+block/eda_examining_distributions_histogram4.gif'>\n",
        "\n",
        "\n",
        "Note that all three distributions are symmetric, but are different in their modality (peakedness). <br>The first distribution is **unimodal—it has one mode (roughly at 10) around which the observations are concentrated**.<br> The second distribution is **bimodal—it has two modes (roughly at 10 and 20) around which the observations are concentrated**. <br>The third distribution is **kind of flat, or uniform. The distribution has no modes**, or no value around which the observations are concentrated. Rather, we see that the observations are roughly uniformly distributed among the different values.\n",
        "\n"
      ]
    },
    {
      "cell_type": "markdown",
      "metadata": {
        "id": "AZBBjoNXT53R",
        "colab_type": "text"
      },
      "source": [
        "<h3>Skewed Right Distributions</h3>\n",
        "\n",
        "<img src='https://lagunita.stanford.edu/assets/courseware/v1/7f651a599f939542cf929479d2086c23/asset-v1:OLI+ProbStat+Open_Jan2017+type@asset+block/eda_examining_distributions_histogram5.gif'>\n",
        "\n",
        "A distribution is called skewed right if, as in the histogram above, the right tail (larger values) is much longer than the left tail (small values). Note that in a skewed right distribution, the bulk of the observations are small/medium, with a few observations that are much larger than the rest. An example of a real-life variable that has a skewed right distribution is salary. Most people earn in the low/medium range of salaries, with a few exceptions (CEOs, professional athletes etc.) that are distributed along a large range (long \"tail\") of higher values.\n",
        "\n",
        "\n",
        "<h3>Skewed Left Distributions</h3>\n",
        "\n",
        "<img src='https://lagunita.stanford.edu/assets/courseware/v1/a4d03a54ca15682bab2c45d852589cb6/asset-v1:OLI+ProbStat+Open_Jan2017+type@asset+block/eda_examining_distributions_histogram6.gif'>\n",
        "\n",
        "A distribution is called skewed left if, as in the histogram above, the left tail (smaller values) is much longer than the right tail (larger values). Note that in a skewed left distribution, the bulk of the observations are medium/large, with a few observations that are much smaller than the rest. An example of a real life variable that has a skewed left distribution is age of death from natural causes (heart disease, cancer etc.). Most such deaths happen at older ages, with fewer cases happening at younger ages.\n",
        "\n",
        "\n",
        "\n",
        "**Examples:**<br>\n",
        "1. _Symmetric Unimodal_  is the most likely shape of the distribution of the age at which a child takes its first steps.<br>\n",
        "2. _Symmetric Right-Skewed_ is the most likely shape for deaths by trauma(accidents, suicide, violence)... Since most of the data will be for young people and a few old peiople<br>\n",
        "3. _Symmetric Left-Skewed_ will be the most likely shape for death by natural causes, since most old people will be affected and fewer young people.\n",
        "\n"
      ]
    },
    {
      "cell_type": "markdown",
      "metadata": {
        "id": "J4JOBjzhVmZs",
        "colab_type": "text"
      },
      "source": [
        "<h3>Comments:</h3>\n",
        "\n",
        "Note that skewed distributions can also be bimodal. Here is an example. A medium size neighborhood 24-hour convenience store collected data from 537 customers on the amount of money spend in a single visit to the store. The following histogram displays the data.\n",
        "\n",
        "<img src='https://lagunita.stanford.edu/assets/courseware/v1/735fdfe4b91dee39e0bd08e67f042cb1/asset-v1:OLI+ProbStat+Open_Jan2017+type@asset+block/eda_examining_distributions_bimode_hist.png'>\n",
        "\n",
        "Note that the overall shape of the distribution is skewed to the right with a clear mode around \\\\$25.In addition it has another (smaller) “peak” (mode) around \\$50-55. The majority of the customers spend around \\$25 but there is a cluster of customers who enter the store and spend around \\$50-55.\n",
        "\n",
        "If a distribution has more than two modes, we say that the distribution is **multimoda**l.\n",
        "\n"
      ]
    },
    {
      "cell_type": "markdown",
      "metadata": {
        "id": "zmI1EgFFX1ns",
        "colab_type": "text"
      },
      "source": [
        "**Center**<br>\n",
        "The center of the distribution is its midpoint—the value that divides the distribution so that approximately half the observations take smaller values, and approximately half the observations take larger values. Note that from looking at the histogram we can get only a rough estimate for the center of the distribution. (More exact ways of finding measures of center will be discussed in the next section.)\n",
        "\n",
        "Recall our grades example:"
      ]
    },
    {
      "cell_type": "code",
      "metadata": {
        "id": "tpPTLclxJCK2",
        "colab_type": "code",
        "outputId": "3b3983ed-ae16-41ce-93dc-841fe65c36a5",
        "colab": {
          "base_uri": "https://localhost:8080/",
          "height": 309
        }
      },
      "source": [
        "plt.figure(figsize=(6,4))\n",
        "plt.title('Histogram of Exam Grades')\n",
        "plt.xlabel('Score')\n",
        "plt.ylabel('Count')\n",
        "plt.hist(exam_grades, bins=bin, histtype='bar', edgecolor='r')\n",
        "plt.show()"
      ],
      "execution_count": 37,
      "outputs": [
        {
          "output_type": "display_data",
          "data": {
            "image/png": "[encoded data removed]",
            "text/plain": [
              "<Figure size 432x288 with 1 Axes>"
            ]
          },
          "metadata": {
            "tags": []
          }
        }
      ]
    },
    {
      "cell_type": "markdown",
      "metadata": {
        "id": "mruaowY6YZjw",
        "colab_type": "text"
      },
      "source": [
        "As you can see from the histogram, the center of the grades distribution is roughly 70 (7 students scored below 70, and 8 students scored above 70).\n",
        "\n",
        "**Spread**<br>\n",
        "The spread (**also called variability**) of the distribution can be described by the approximate range covered by the data. From looking at the histogram, we can approximate the smallest observation (min), and the largest observation (max), and thus approximate the range. (More exact ways of finding measures of spread will be discussed in the next section.)\n",
        "\n",
        "In our example:\n",
        "\n",
        "approximate min: 45 (the middle of the lowest interval of scores)\n",
        "approximate max: 95 (the middle of the highest interval of scores)\n",
        "approximate range: 95-45=50"
      ]
    },
    {
      "cell_type": "markdown",
      "metadata": {
        "id": "UwYRod-Ehwb5",
        "colab_type": "text"
      },
      "source": [
        "**Outliers**<br>\n",
        "Outliers are observations that fall outside the overall pattern. For example, the following histogram represents a distribution that has a high probable outlier:\n",
        "\n",
        "<img src='https://lagunita.stanford.edu/assets/courseware/v1/fadf37cdaf9eef53bd19c51e2ad1d4c7/asset-v1:OLI+ProbStat+Open_Jan2017+type@asset+block/eda_examining_distributions_histogram7.gif'>\n",
        "\n"
      ]
    },
    {
      "cell_type": "code",
      "metadata": {
        "id": "fUISP8CdYomf",
        "colab_type": "code",
        "outputId": "d4644998-7dca-4aac-e1af-602f6ad25e7a",
        "colab": {
          "base_uri": "https://localhost:8080/",
          "height": 121
        }
      },
      "source": [
        "from google.colab import drive\n",
        "drive.mount('/content/gdrive')"
      ],
      "execution_count": 38,
      "outputs": [
        {
          "output_type": "stream",
          "text": [
            "Go to this URL in a browser: https://accounts.google.com/o/oauth2/auth?client_id=947318989803-6bn6qk8qdgf4n4g3pfee6491hc0brc4i.apps.googleusercontent.com&redirect_uri=urn%3Aietf%3Awg%3Aoauth%3A2.0%3Aoob&scope=email%20https%3A%2F%2Fwww.googleapis.com%2Fauth%2Fdocs.test%20https%3A%2F%2Fwww.googleapis.com%2Fauth%2Fdrive%20https%3A%2F%2Fwww.googleapis.com%2Fauth%2Fdrive.photos.readonly%20https%3A%2F%2Fwww.googleapis.com%2Fauth%2Fpeopleapi.readonly&response_type=code\n",
            "\n",
            "Enter your authorization code:\n",
            "··········\n",
            "Mounted at /content/gdrive\n"
          ],
          "name": "stdout"
        }
      ]
    },
    {
      "cell_type": "code",
      "metadata": {
        "id": "AJtNk4a44VqS",
        "colab_type": "code",
        "colab": {}
      },
      "source": [
        "file_data = ''\n",
        "with open('/content/gdrive/My Drive/Colab_Notebooks/probability_and_statistics/best_women_oscar.csv' ) as f:\n",
        "    file_data = f.read()"
      ],
      "execution_count": 0,
      "outputs": []
    },
    {
      "cell_type": "code",
      "metadata": {
        "id": "4uFbrRn85MDV",
        "colab_type": "code",
        "outputId": "74687e6b-ee60-4cd1-f364-ae8477c468c0",
        "colab": {
          "base_uri": "https://localhost:8080/",
          "height": 195
        }
      },
      "source": [
        "import sys\n",
        "if sys.version_info[0] < 3: \n",
        "    from StringIO import StringIO\n",
        "else:\n",
        "    from io import StringIO\n",
        "\n",
        "TESTDATA = StringIO(file_data)\n",
        "\n",
        "actress_df = pd.read_csv(TESTDATA, sep=\",\")\n",
        "\n",
        "actress_df.head()"
      ],
      "execution_count": 40,
      "outputs": [
        {
          "output_type": "execute_result",
          "data": {
            "text/html": [
              "<div>\n",
              "<style scoped>\n",
              "    .dataframe tbody tr th:only-of-type {\n",
              "        vertical-align: middle;\n",
              "    }\n",
              "\n",
              "    .dataframe tbody tr th {\n",
              "        vertical-align: top;\n",
              "    }\n",
              "\n",
              "    .dataframe thead th {\n",
              "        text-align: right;\n",
              "    }\n",
              "</style>\n",
              "<table border=\"1\" class=\"dataframe\">\n",
              "  <thead>\n",
              "    <tr style=\"text-align: right;\">\n",
              "      <th></th>\n",
              "      <th>Dataset: Best Actress Oscar Winners (1970-2013)</th>\n",
              "      <th>Unnamed: 1</th>\n",
              "      <th>Unnamed: 2</th>\n",
              "      <th>Unnamed: 3</th>\n",
              "    </tr>\n",
              "  </thead>\n",
              "  <tbody>\n",
              "    <tr>\n",
              "      <th>0</th>\n",
              "      <td>NaN</td>\n",
              "      <td>NaN</td>\n",
              "      <td>NaN</td>\n",
              "      <td>NaN</td>\n",
              "    </tr>\n",
              "    <tr>\n",
              "      <th>1</th>\n",
              "      <td>Year</td>\n",
              "      <td>Name</td>\n",
              "      <td>Movie</td>\n",
              "      <td>Age</td>\n",
              "    </tr>\n",
              "    <tr>\n",
              "      <th>2</th>\n",
              "      <td>1970</td>\n",
              "      <td>Glenda Jackson</td>\n",
              "      <td>Women in Love</td>\n",
              "      <td>34</td>\n",
              "    </tr>\n",
              "    <tr>\n",
              "      <th>3</th>\n",
              "      <td>1971</td>\n",
              "      <td>Jane Fonda</td>\n",
              "      <td>Klute</td>\n",
              "      <td>34</td>\n",
              "    </tr>\n",
              "    <tr>\n",
              "      <th>4</th>\n",
              "      <td>1972</td>\n",
              "      <td>Liza Minnelli</td>\n",
              "      <td>Cabaret</td>\n",
              "      <td>27</td>\n",
              "    </tr>\n",
              "  </tbody>\n",
              "</table>\n",
              "</div>"
            ],
            "text/plain": [
              "  Dataset: Best Actress Oscar Winners (1970-2013)      Unnamed: 1  \\\n",
              "0                                             NaN             NaN   \n",
              "1                                            Year            Name   \n",
              "2                                            1970  Glenda Jackson   \n",
              "3                                            1971      Jane Fonda   \n",
              "4                                            1972   Liza Minnelli   \n",
              "\n",
              "      Unnamed: 2 Unnamed: 3  \n",
              "0            NaN        NaN  \n",
              "1          Movie        Age  \n",
              "2  Women in Love         34  \n",
              "3          Klute         34  \n",
              "4        Cabaret         27  "
            ]
          },
          "metadata": {
            "tags": []
          },
          "execution_count": 40
        }
      ]
    },
    {
      "cell_type": "markdown",
      "metadata": {
        "id": "8ZXK2YSo9RwO",
        "colab_type": "text"
      },
      "source": [
        "<h2>Cleaning up the data set</h2>"
      ]
    },
    {
      "cell_type": "markdown",
      "metadata": {
        "id": "bzw0GLiN672p",
        "colab_type": "text"
      },
      "source": [
        "It does not import in a good structure, let's clean it up a bit, rrename the  columns and delete unnecassary rows."
      ]
    },
    {
      "cell_type": "code",
      "metadata": {
        "id": "iDXQYKDq7O13",
        "colab_type": "code",
        "colab": {}
      },
      "source": [
        "# First let's make row 1 above the rightful column header\n",
        "actress_df.columns = actress_df.iloc[1,:]\n",
        "\n",
        "# next, lets delete the first two redundant rows\n",
        "actress_df.drop([0,1], axis=0, inplace=True)"
      ],
      "execution_count": 0,
      "outputs": []
    },
    {
      "cell_type": "code",
      "metadata": {
        "id": "apI3jatM7szm",
        "colab_type": "code",
        "outputId": "4218f85e-6faf-4c0c-e677-77431c86c753",
        "colab": {
          "base_uri": "https://localhost:8080/",
          "height": 195
        }
      },
      "source": [
        "actress_df.head()"
      ],
      "execution_count": 42,
      "outputs": [
        {
          "output_type": "execute_result",
          "data": {
            "text/html": [
              "<div>\n",
              "<style scoped>\n",
              "    .dataframe tbody tr th:only-of-type {\n",
              "        vertical-align: middle;\n",
              "    }\n",
              "\n",
              "    .dataframe tbody tr th {\n",
              "        vertical-align: top;\n",
              "    }\n",
              "\n",
              "    .dataframe thead th {\n",
              "        text-align: right;\n",
              "    }\n",
              "</style>\n",
              "<table border=\"1\" class=\"dataframe\">\n",
              "  <thead>\n",
              "    <tr style=\"text-align: right;\">\n",
              "      <th>1</th>\n",
              "      <th>Year</th>\n",
              "      <th>Name</th>\n",
              "      <th>Movie</th>\n",
              "      <th>Age</th>\n",
              "    </tr>\n",
              "  </thead>\n",
              "  <tbody>\n",
              "    <tr>\n",
              "      <th>2</th>\n",
              "      <td>1970</td>\n",
              "      <td>Glenda Jackson</td>\n",
              "      <td>Women in Love</td>\n",
              "      <td>34</td>\n",
              "    </tr>\n",
              "    <tr>\n",
              "      <th>3</th>\n",
              "      <td>1971</td>\n",
              "      <td>Jane Fonda</td>\n",
              "      <td>Klute</td>\n",
              "      <td>34</td>\n",
              "    </tr>\n",
              "    <tr>\n",
              "      <th>4</th>\n",
              "      <td>1972</td>\n",
              "      <td>Liza Minnelli</td>\n",
              "      <td>Cabaret</td>\n",
              "      <td>27</td>\n",
              "    </tr>\n",
              "    <tr>\n",
              "      <th>5</th>\n",
              "      <td>1973</td>\n",
              "      <td>Glenda Jackson</td>\n",
              "      <td>A Touch of Class</td>\n",
              "      <td>37</td>\n",
              "    </tr>\n",
              "    <tr>\n",
              "      <th>6</th>\n",
              "      <td>1974</td>\n",
              "      <td>Ellen Burstyn</td>\n",
              "      <td>Alice Doesn't Live Here Anymore</td>\n",
              "      <td>42</td>\n",
              "    </tr>\n",
              "  </tbody>\n",
              "</table>\n",
              "</div>"
            ],
            "text/plain": [
              "1  Year            Name                            Movie Age\n",
              "2  1970  Glenda Jackson                    Women in Love  34\n",
              "3  1971      Jane Fonda                            Klute  34\n",
              "4  1972   Liza Minnelli                          Cabaret  27\n",
              "5  1973  Glenda Jackson                 A Touch of Class  37\n",
              "6  1974   Ellen Burstyn  Alice Doesn't Live Here Anymore  42"
            ]
          },
          "metadata": {
            "tags": []
          },
          "execution_count": 42
        }
      ]
    },
    {
      "cell_type": "code",
      "metadata": {
        "id": "H558qq918E62",
        "colab_type": "code",
        "outputId": "1c7127df-4ec1-4c29-daa6-a246f3020c9b",
        "colab": {
          "base_uri": "https://localhost:8080/",
          "height": 34
        }
      },
      "source": [
        "actress_df.shape"
      ],
      "execution_count": 43,
      "outputs": [
        {
          "output_type": "execute_result",
          "data": {
            "text/plain": [
              "(44, 4)"
            ]
          },
          "metadata": {
            "tags": []
          },
          "execution_count": 43
        }
      ]
    },
    {
      "cell_type": "code",
      "metadata": {
        "id": "hVBixb878K5N",
        "colab_type": "code",
        "outputId": "ba05fccb-7f2d-48a6-848f-0d49b6a03ac0",
        "colab": {
          "base_uri": "https://localhost:8080/",
          "height": 168
        }
      },
      "source": [
        "actress_df.info()"
      ],
      "execution_count": 44,
      "outputs": [
        {
          "output_type": "stream",
          "text": [
            "<class 'pandas.core.frame.DataFrame'>\n",
            "Int64Index: 44 entries, 2 to 45\n",
            "Data columns (total 4 columns):\n",
            "Year     44 non-null object\n",
            "Name     44 non-null object\n",
            "Movie    44 non-null object\n",
            "Age      44 non-null object\n",
            "dtypes: object(4)\n",
            "memory usage: 1.7+ KB\n"
          ],
          "name": "stdout"
        }
      ]
    },
    {
      "cell_type": "markdown",
      "metadata": {
        "id": "cfH_bng-8Ufe",
        "colab_type": "text"
      },
      "source": [
        "We can see that all the columns are of type object or string. This should not be so. Let's convert year and age columns to integers"
      ]
    },
    {
      "cell_type": "code",
      "metadata": {
        "id": "TYdjGugD8f12",
        "colab_type": "code",
        "colab": {}
      },
      "source": [
        "# Let's convert Year and Age columns to integers\n",
        "\n",
        "actress_df[['Year','Age']] = actress_df[['Year','Age']].astype('int64')"
      ],
      "execution_count": 0,
      "outputs": []
    },
    {
      "cell_type": "code",
      "metadata": {
        "id": "SO1cTu4w848Z",
        "colab_type": "code",
        "outputId": "bc048b70-64b3-48f4-85ae-b7c714a823ba",
        "colab": {
          "base_uri": "https://localhost:8080/",
          "height": 168
        }
      },
      "source": [
        "# Let's confirm that conversion has been done.\n",
        "actress_df.info()"
      ],
      "execution_count": 46,
      "outputs": [
        {
          "output_type": "stream",
          "text": [
            "<class 'pandas.core.frame.DataFrame'>\n",
            "Int64Index: 44 entries, 2 to 45\n",
            "Data columns (total 4 columns):\n",
            "Year     44 non-null int64\n",
            "Name     44 non-null object\n",
            "Movie    44 non-null object\n",
            "Age      44 non-null int64\n",
            "dtypes: int64(2), object(2)\n",
            "memory usage: 1.7+ KB\n"
          ],
          "name": "stdout"
        }
      ]
    },
    {
      "cell_type": "markdown",
      "metadata": {
        "id": "MWgwgNei9aPH",
        "colab_type": "text"
      },
      "source": [
        "<h2>EDA</H2>"
      ]
    },
    {
      "cell_type": "code",
      "metadata": {
        "id": "ofS5I7Zo9ZYu",
        "colab_type": "code",
        "outputId": "8994d893-9931-4749-a7de-c38e75bbc45f",
        "colab": {
          "base_uri": "https://localhost:8080/",
          "height": 34
        }
      },
      "source": [
        "actress_df.Age.mean()"
      ],
      "execution_count": 47,
      "outputs": [
        {
          "output_type": "execute_result",
          "data": {
            "text/plain": [
              "38.34090909090909"
            ]
          },
          "metadata": {
            "tags": []
          },
          "execution_count": 47
        }
      ]
    },
    {
      "cell_type": "code",
      "metadata": {
        "id": "t8TgKNjnxoiV",
        "colab_type": "code",
        "outputId": "edd4bc66-873e-4ee9-9159-98c85fb19c8f",
        "colab": {
          "base_uri": "https://localhost:8080/",
          "height": 34
        }
      },
      "source": [
        "actress_df.Age.min()"
      ],
      "execution_count": 48,
      "outputs": [
        {
          "output_type": "execute_result",
          "data": {
            "text/plain": [
              "21"
            ]
          },
          "metadata": {
            "tags": []
          },
          "execution_count": 48
        }
      ]
    },
    {
      "cell_type": "code",
      "metadata": {
        "id": "Sv9pKGAdHPnu",
        "colab_type": "code",
        "outputId": "76953a15-3b16-4e90-e1e1-08d08bbceb49",
        "colab": {
          "base_uri": "https://localhost:8080/",
          "height": 50
        }
      },
      "source": [
        "count, bin_edges = np.histogram(actress_df['Age'],bins=[17,22,28,34,40,46,52,58,64,70,76,82])\n",
        "\n",
        "print('Count is {}\\nBin is {}'.format(count, bin_edges))"
      ],
      "execution_count": 49,
      "outputs": [
        {
          "output_type": "stream",
          "text": [
            "Count is [ 1  5 13 10  8  2  0  3  0  1  1]\n",
            "Bin is [17 22 28 34 40 46 52 58 64 70 76 82]\n"
          ],
          "name": "stdout"
        }
      ]
    },
    {
      "cell_type": "code",
      "metadata": {
        "id": "nSTbKVYZ9hzs",
        "colab_type": "code",
        "outputId": "9b593319-c58e-4877-9d14-d30dee85769d",
        "colab": {
          "base_uri": "https://localhost:8080/",
          "height": 306
        }
      },
      "source": [
        "fig = plt.figure(figsize=(20,4))\n",
        "\n",
        "sns.set(font_scale=1.2)\n",
        "sns.set_style('ticks')\n",
        "\n",
        "ax0 = fig.add_subplot(121)\n",
        "ax1 = fig.add_subplot(122)\n",
        "\n",
        "# plotting histogram\n",
        "actress_df['Age'].plot(kind='hist', edgecolor='white', xticks=bin_edges, ax=ax0, bins=[17,22,28,34,40,46,52,58,64,70,76,82])\n",
        "ax0.set_title('Age Distribution of Best Female Actress Oscar Winners (1970 - 2013)')\n",
        "ax0.set_xlabel('Age')\n",
        "\n",
        "# plotting distplot\n",
        "sns.distplot(actress_df['Age'], hist=False, color='red', label='Age Distribution', ax=ax1)\n",
        "ax1.set_title('Age Distribution of Best Female Actress Oscar Winners (1970 - 2013)')\n",
        "ax1.set_xlabel('Age')\n",
        "\n",
        "plt.show()"
      ],
      "execution_count": 50,
      "outputs": [
        {
          "output_type": "display_data",
          "data": {
            "image/png": "[encoded data removed]",
            "text/plain": [
              "<Figure size 1440x288 with 2 Axes>"
            ]
          },
          "metadata": {
            "tags": []
          }
        }
      ]
    },
    {
      "cell_type": "code",
      "metadata": {
        "id": "QbBsJzlFUpFv",
        "colab_type": "code",
        "outputId": "dd0878be-cf1b-456e-98a2-8034b562e1d8",
        "colab": {
          "base_uri": "https://localhost:8080/",
          "height": 34
        }
      },
      "source": [
        "actress_df['Age'].median()"
      ],
      "execution_count": 51,
      "outputs": [
        {
          "output_type": "execute_result",
          "data": {
            "text/plain": [
              "34.5"
            ]
          },
          "metadata": {
            "tags": []
          },
          "execution_count": 51
        }
      ]
    },
    {
      "cell_type": "markdown",
      "metadata": {
        "id": "xYLbim3zVX2N",
        "colab_type": "text"
      },
      "source": [
        "We will now summarize the main features of the distribution of ages as it appears from the histogram:\n",
        "\n",
        "**Shape:** The distribution of ages is skewed right. We have a concentration of data among the younger ages and a long tail to the right. The vast majority of the \"best actress\" awards are given to young actresses, with very few awards given to actresses who are older.\n",
        "\n",
        "**Center:** The data seem to be centered around 34 or 35 years old. Note that this implies that roughly half the awards are given to actresses who are less than 34 years old.\n",
        "\n",
        "**Spread:** The data range from about 20 to about 80, so the approximate range equals 80 - 20 = 60.\n",
        "\n",
        "**Outliers:** There seem to be two probable outliers to the far right and possibly three around 62 years old.\n",
        "\n",
        "You can see how informative it is to know \"what to look at\" in a histogram. If there is one conclusion that we can make here, it is that Hollywood likes its actresses young."
      ]
    },
    {
      "cell_type": "markdown",
      "metadata": {
        "id": "rgkzI4x4yNmu",
        "colab_type": "text"
      },
      "source": [
        "<h2>Age Distribution of Best Male Actors</h2> "
      ]
    },
    {
      "cell_type": "code",
      "metadata": {
        "id": "os1Plz2IyZ0M",
        "colab_type": "code",
        "colab": {}
      },
      "source": [
        "file_data = ''\n",
        "with open('/content/gdrive/My Drive/Colab_Notebooks/probability_and_statistics/actor_2013.csv' ) as f:\n",
        "    file_data = f.read()"
      ],
      "execution_count": 0,
      "outputs": []
    },
    {
      "cell_type": "code",
      "metadata": {
        "id": "HNC7K4gn9cWT",
        "colab_type": "code",
        "outputId": "85e38148-a055-406b-d2c3-1e609ed18873",
        "colab": {
          "base_uri": "https://localhost:8080/",
          "height": 195
        }
      },
      "source": [
        "TESTDATA = StringIO(file_data)\n",
        "\n",
        "actors_df = pd.read_csv(TESTDATA, sep=\",\")\n",
        "\n",
        "actors_df.head()"
      ],
      "execution_count": 53,
      "outputs": [
        {
          "output_type": "execute_result",
          "data": {
            "text/html": [
              "<div>\n",
              "<style scoped>\n",
              "    .dataframe tbody tr th:only-of-type {\n",
              "        vertical-align: middle;\n",
              "    }\n",
              "\n",
              "    .dataframe tbody tr th {\n",
              "        vertical-align: top;\n",
              "    }\n",
              "\n",
              "    .dataframe thead th {\n",
              "        text-align: right;\n",
              "    }\n",
              "</style>\n",
              "<table border=\"1\" class=\"dataframe\">\n",
              "  <thead>\n",
              "    <tr style=\"text-align: right;\">\n",
              "      <th></th>\n",
              "      <th>Age</th>\n",
              "    </tr>\n",
              "  </thead>\n",
              "  <tbody>\n",
              "    <tr>\n",
              "      <th>0</th>\n",
              "      <td>29</td>\n",
              "    </tr>\n",
              "    <tr>\n",
              "      <th>1</th>\n",
              "      <td>30</td>\n",
              "    </tr>\n",
              "    <tr>\n",
              "      <th>2</th>\n",
              "      <td>32</td>\n",
              "    </tr>\n",
              "    <tr>\n",
              "      <th>3</th>\n",
              "      <td>32</td>\n",
              "    </tr>\n",
              "    <tr>\n",
              "      <th>4</th>\n",
              "      <td>33</td>\n",
              "    </tr>\n",
              "  </tbody>\n",
              "</table>\n",
              "</div>"
            ],
            "text/plain": [
              "   Age\n",
              "0   29\n",
              "1   30\n",
              "2   32\n",
              "3   32\n",
              "4   33"
            ]
          },
          "metadata": {
            "tags": []
          },
          "execution_count": 53
        }
      ]
    },
    {
      "cell_type": "code",
      "metadata": {
        "id": "-fVJ-AJ1-Fuk",
        "colab_type": "code",
        "outputId": "14cd890d-ccb3-46ae-8cb8-1763c7bf9701",
        "colab": {
          "base_uri": "https://localhost:8080/",
          "height": 50
        }
      },
      "source": [
        "actors_df.dtypes"
      ],
      "execution_count": 54,
      "outputs": [
        {
          "output_type": "execute_result",
          "data": {
            "text/plain": [
              "Age    int64\n",
              "dtype: object"
            ]
          },
          "metadata": {
            "tags": []
          },
          "execution_count": 54
        }
      ]
    },
    {
      "cell_type": "code",
      "metadata": {
        "id": "tEf0x9hQ1QEP",
        "colab_type": "code",
        "outputId": "f969db79-693d-4b48-e646-3015b35d0b2e",
        "colab": {
          "base_uri": "https://localhost:8080/",
          "height": 50
        }
      },
      "source": [
        "bins=[25,29,34,39,44,49,54,59,64,69,74,79]\n",
        "count,bin_edges = np.histogram(actors_df,bins)\n",
        "print('Count is {}\\nBin is {}'.format(count, bin_edges))"
      ],
      "execution_count": 55,
      "outputs": [
        {
          "output_type": "stream",
          "text": [
            "Count is [0 5 8 9 8 6 3 4 0 0 1]\n",
            "Bin is [25 29 34 39 44 49 54 59 64 69 74 79]\n"
          ],
          "name": "stdout"
        }
      ]
    },
    {
      "cell_type": "code",
      "metadata": {
        "id": "_919aIIm3XTa",
        "colab_type": "code",
        "outputId": "eb3dc999-dfaa-4d97-edc1-d885544eed57",
        "colab": {
          "base_uri": "https://localhost:8080/",
          "height": 322
        }
      },
      "source": [
        "plt.figure(figsize=(10,6))\n",
        "sns.set(font_scale=1.2)\n",
        "sns.set_style('ticks')\n",
        "ax = actors_df.plot(kind='hist', bins=bins, xticks=bin_edges, edgecolor='yellow')\n",
        "ax.set_title('Best Male Actors Age Distribution')\n",
        "ax.set_xlabel('Age')\n",
        "plt.show()"
      ],
      "execution_count": 56,
      "outputs": [
        {
          "output_type": "display_data",
          "data": {
            "text/plain": [
              "<Figure size 720x432 with 0 Axes>"
            ]
          },
          "metadata": {
            "tags": []
          }
        },
        {
          "output_type": "display_data",
          "data": {
            "image/png": "[encoded data removed]",
            "text/plain": [
              "<Figure size 432x288 with 1 Axes>"
            ]
          },
          "metadata": {
            "tags": []
          }
        }
      ]
    },
    {
      "cell_type": "code",
      "metadata": {
        "id": "QtAxTLyN71Bp",
        "colab_type": "code",
        "outputId": "6193de88-0e19-4c5f-9895-d415d03126ab",
        "colab": {
          "base_uri": "https://localhost:8080/",
          "height": 50
        }
      },
      "source": [
        "actors_df.min()"
      ],
      "execution_count": 57,
      "outputs": [
        {
          "output_type": "execute_result",
          "data": {
            "text/plain": [
              "Age    29\n",
              "dtype: int64"
            ]
          },
          "metadata": {
            "tags": []
          },
          "execution_count": 57
        }
      ]
    },
    {
      "cell_type": "markdown",
      "metadata": {
        "id": "TBxHoKPG56Tk",
        "colab_type": "text"
      },
      "source": [
        "**Describe the distribution of the ages of the Best Actor Oscar winners. Be sure to address shape, center, spread and outliers**"
      ]
    },
    {
      "cell_type": "markdown",
      "metadata": {
        "id": "P9RRYPp36g2s",
        "colab_type": "text"
      },
      "source": [
        "The Best male actors age distribution is:-<br>\n",
        "**1. Shape:**\n",
        "**Right-skewed.**<br>\n",
        "It contains a concentration of young ages of actors and a few older ages up to 64 years.<br>\n",
        "It is **unimodal** with a mode of 39 - 44 age.\n",
        "\n",
        "**2. Center:** <br>The center or median age is about 44 years. <br>\n",
        "This means half of the actors have age below 44 years and half above 44.\n",
        "\n",
        "\n",
        "**3. Spread:**<br>\n",
        "The spread or range of actors age distribution is 29 to 76.<br>\n",
        "This means the range is 76-29 = 47\n",
        "\n",
        "**Outliers:**<br>\n",
        "There is an outlier value of 79, this is not in the normal age range spread of 29 - 64\n"
      ]
    },
    {
      "cell_type": "markdown",
      "metadata": {
        "id": "A136G-1SaBaE",
        "colab_type": "text"
      },
      "source": [
        "<h2>Let's Summarize</h2>\n",
        "The histogram is a graphical display of the distribution of a quantitative variable. <br>\n",
        "It plots the number (count) of observations that fall in intervals of values.<br>\n",
        "When examining the distribution of a quantitative variable, <br>One should describe the overall pattern of the data (shape, center, spread), and any deviations from the pattern (outliers).<br>\n",
        "When describing the shape of a distribution, one should consider:<br>\n",
        "**Symmetry/skewness** of the distribution<br>\n",
        "**Peakedness (modality)**—the number of peaks (modes) the distribution has.<br>\n",
        "Not all distributions have a simple, recognizable shape.<br>\n",
        "Outliers are data points that fall outside the overall pattern of the distribution and need further research before continuing the analysis.<br>\n",
        "It is always important to interpret what the features of the distribution (as they appear in the histogram) mean in the context of the data."
      ]
    },
    {
      "cell_type": "markdown",
      "metadata": {
        "id": "wVNbpgiLS7rO",
        "colab_type": "text"
      },
      "source": [
        "# Stem Plot Distribution Analysis"
      ]
    },
    {
      "cell_type": "markdown",
      "metadata": {
        "id": "eg5P5pkZTKJg",
        "colab_type": "text"
      },
      "source": [
        "**Learning Objective:** <br>Summarize and describe the distribution of a quantitative variable in context: <br>a) describe the overall pattern, <br>b) describe striking deviations from the pattern.<br>\n",
        "Stem plots help us view even negative numbers as Stem plots could be used to show the difference in data over time."
      ]
    },
    {
      "cell_type": "markdown",
      "metadata": {
        "id": "-rxk5VOyZaGb",
        "colab_type": "text"
      },
      "source": [
        "The **stemplot (also called stem and leaf plot)** is another graphical display of the distribution of quantitative data.\n",
        "\n",
        "Idea\n",
        "Separate each data point into a stem and leaf, as follows:\n",
        "\n",
        "The leaf is the right-most digit.<br>\n",
        "The stem is everything except the right-most digit.<br>\n",
        "So, if the data point is 34, then 3 is the stem and 4 is the leaf.<br>\n",
        "If the data point is 3.41, then 3.4 is the stem and 1 is the leaf."
      ]
    },
    {
      "cell_type": "markdown",
      "metadata": {
        "id": "Ht8eW5taky03",
        "colab_type": "text"
      },
      "source": [
        "**To make a stemplot using the actress_df age distribution:**\n",
        "\n",
        "Separate each observation into a stem and a leaf.<br>\n",
        "Write the stems in a vertical column with the smallest at the top, and draw a vertical line at the right of this column<br>\n",
        "Go through the data points, and write each leaf in the row to the right of its stem.<br>\n",
        "Rearrange the leaves in an increasing order."
      ]
    },
    {
      "cell_type": "markdown",
      "metadata": {
        "id": "rm6TQBZEl4Oh",
        "colab_type": "text"
      },
      "source": [
        "<img src='https://lagunita.stanford.edu/assets/courseware/v1/f9eea9313f10852389d4be39c0ce0ef7/asset-v1:OLI+ProbStat+Open_Jan2017+type@asset+block/eda_examining_distributions_best_actress_stemplot.jpg'>"
      ]
    },
    {
      "cell_type": "markdown",
      "metadata": {
        "id": "ePLQI3TAmHVM",
        "colab_type": "text"
      },
      "source": [
        "* When some of the stems hold a large number of leaves, we can split each stem into two: one holding the leaves 0-4, and the other holding the leaves 5-9. A statistical software package will often do the splitting for you, when appropriate.\n",
        "\n",
        "Note that when rotated 90 degrees counterclockwise, the stemplot visually resembles a histogram:\n",
        "\n",
        "<img src='https://lagunita.stanford.edu/assets/courseware/v1/c126d192f512e3364a09b3896e4fde11/asset-v1:OLI+ProbStat+Open_Jan2017+type@asset+block/eda_examining_distributions_best_actress_stemplot_rotated.jpg'>\n",
        "\n",
        "\n",
        "This orientation makes the right-skewedness of the distribution clearly visible.\n",
        "\n",
        "The stemplot has additional unique features:\n",
        "\n",
        "It preserves the original data.\n",
        "It sorts the data (which will become very useful in the next section)."
      ]
    },
    {
      "cell_type": "markdown",
      "metadata": {
        "id": "GsLN3qwrmcaY",
        "colab_type": "text"
      },
      "source": [
        "# Dot Plot"
      ]
    },
    {
      "cell_type": "markdown",
      "metadata": {
        "id": "feGF8lFbmf1_",
        "colab_type": "text"
      },
      "source": [
        "**Dotplot**<br>\n",
        "There is another type of display that we can use to summarize a quantitative variable graphically—the dotplot. <br>The dotplot, like the stemplot, shows each observation, but displays it with a dot rather than with its actual value. <br>Here is the dotplot for the ages of Best Actress Oscar winners.\n",
        "\n",
        "<img src = 'https://lagunita.stanford.edu/assets/courseware/v1/dbaadb5210df217da92195bf31fbaa11/asset-v1:OLI+ProbStat+Open_Jan2017+type@asset+block/eda_examining_distributions_best_actress_dotplot.jpg'>"
      ]
    },
    {
      "cell_type": "markdown",
      "metadata": {
        "id": "97V20DT7nC1u",
        "colab_type": "text"
      },
      "source": [
        "**Let's Summarize**<br>\n",
        "The stemplot is a simple but useful visual display of quantitative data. Its principal virtues are:\n",
        "\n",
        "Easy and quick to construct for small, simple datasets.<br>\n",
        "Retains the actual data.<br>\n",
        "Sorts (ranks) the data."
      ]
    },
    {
      "cell_type": "markdown",
      "metadata": {
        "id": "EMiISU04pqWA",
        "colab_type": "text"
      },
      "source": [
        "# Numerical measures Introduction"
      ]
    },
    {
      "cell_type": "markdown",
      "metadata": {
        "id": "VIkQsOEVpxOg",
        "colab_type": "text"
      },
      "source": [
        "The overall pattern of the distribution of a quantitative variable is described by its shape, center, and spread. By inspecting the histogram, we can describe the shape of the distribution, but as we saw, we can only get a rough estimate for the center and spread. A description of the distribution of a quantitative variable must include, in addition to the graphical display, a more precise numerical description of the center and spread of the distribution. In this section we will learn:\n",
        "\n",
        "**How to quantify the center and spread of a distribution with various numerical measures;<br>\n",
        "Some of the properties of those numerical measures; and<br>\n",
        "How to choose the appropriate numerical measures of center and spread to supplement the histogram.**"
      ]
    },
    {
      "cell_type": "markdown",
      "metadata": {
        "id": "IfkG7yle_FZa",
        "colab_type": "text"
      },
      "source": [
        "Intuitively speaking, the numerical measure of center is telling us what is a “typical value” of the distribution.\n",
        "\n",
        "The three main numerical measures for the center of a distribution are the **mode, the mean and the median**. Each one of these measures is based on a completely different idea of describing the center of a distribution. We will first present each one of the measures, and then compare their properties."
      ]
    },
    {
      "cell_type": "markdown",
      "metadata": {
        "id": "hqRkXWgW_K2j",
        "colab_type": "text"
      },
      "source": [
        "<h3>Mode</h3>\n",
        "So far, when we looked at the shape of the distribution, we identified the mode as the value where the distribution has a “peak” and saw examples when distributions have one mode (unimodal distributions) or two modes (bimodal distributions). In other words, so far we identified the mode visually from the histogram.\n",
        "\n",
        "Technically, the mode is the most commonly occurring value in a distribution. For simple datasets where the frequency of each value is available or easily determined, the value that occurs with the highest frequency is the mode."
      ]
    },
    {
      "cell_type": "markdown",
      "metadata": {
        "id": "Ri3sDDM-Agkr",
        "colab_type": "text"
      },
      "source": [
        "<h3>The mean</h3> \n",
        "Is the average of a set of observations (i.e., the sum of the observations divided by the number of observations). <br>If the $n$ observations are $x_1, x_2, ... , x_n$, their mean, which we denote by $\\bar{x}$  (and read  $\\bar{x}$), is therefore: <br>\n",
        "<h2>$\\bar{x}$ =  $x_1 +  x_2 +  ... + x_n\\over{n}$</h2>\n",
        "\n",
        "\n",
        "Looking at the actress_df data set, Note that the mean is 38.3, which gives a measure of center which is higher than our approximation of the center from looking at the histogram (which was 34). The reason for this will be clear soon.\n",
        "\n",
        "\n"
      ]
    },
    {
      "cell_type": "markdown",
      "metadata": {
        "id": "IPJREjNhE9ox",
        "colab_type": "text"
      },
      "source": [
        "<h3>Example: World Cup Soccer</h3>\n",
        "We will now continue with the data from the last three World Cup soccer tournaments. A total of 192 games were played. The table below lists the number of goals scored per game (not including any goals scored in shootouts).\n"
      ]
    },
    {
      "cell_type": "code",
      "metadata": {
        "id": "UuGXXhBdm1YL",
        "colab_type": "code",
        "outputId": "1c11454b-2090-494d-a08a-424eeca68f35",
        "colab": {
          "base_uri": "https://localhost:8080/",
          "height": 343
        }
      },
      "source": [
        "soccer_df = pd.DataFrame(np.random.randint(1,30,[9,1]), columns=['Frequency'])\n",
        "soccer_df.Frequency = [17,45,51,37,25,11,3,2,1]\n",
        "soccer_df.index.name = 'Goals_per_game'\n",
        "soccer_df"
      ],
      "execution_count": 58,
      "outputs": [
        {
          "output_type": "execute_result",
          "data": {
            "text/html": [
              "<div>\n",
              "<style scoped>\n",
              "    .dataframe tbody tr th:only-of-type {\n",
              "        vertical-align: middle;\n",
              "    }\n",
              "\n",
              "    .dataframe tbody tr th {\n",
              "        vertical-align: top;\n",
              "    }\n",
              "\n",
              "    .dataframe thead th {\n",
              "        text-align: right;\n",
              "    }\n",
              "</style>\n",
              "<table border=\"1\" class=\"dataframe\">\n",
              "  <thead>\n",
              "    <tr style=\"text-align: right;\">\n",
              "      <th></th>\n",
              "      <th>Frequency</th>\n",
              "    </tr>\n",
              "    <tr>\n",
              "      <th>Goals_per_game</th>\n",
              "      <th></th>\n",
              "    </tr>\n",
              "  </thead>\n",
              "  <tbody>\n",
              "    <tr>\n",
              "      <th>0</th>\n",
              "      <td>17</td>\n",
              "    </tr>\n",
              "    <tr>\n",
              "      <th>1</th>\n",
              "      <td>45</td>\n",
              "    </tr>\n",
              "    <tr>\n",
              "      <th>2</th>\n",
              "      <td>51</td>\n",
              "    </tr>\n",
              "    <tr>\n",
              "      <th>3</th>\n",
              "      <td>37</td>\n",
              "    </tr>\n",
              "    <tr>\n",
              "      <th>4</th>\n",
              "      <td>25</td>\n",
              "    </tr>\n",
              "    <tr>\n",
              "      <th>5</th>\n",
              "      <td>11</td>\n",
              "    </tr>\n",
              "    <tr>\n",
              "      <th>6</th>\n",
              "      <td>3</td>\n",
              "    </tr>\n",
              "    <tr>\n",
              "      <th>7</th>\n",
              "      <td>2</td>\n",
              "    </tr>\n",
              "    <tr>\n",
              "      <th>8</th>\n",
              "      <td>1</td>\n",
              "    </tr>\n",
              "  </tbody>\n",
              "</table>\n",
              "</div>"
            ],
            "text/plain": [
              "                Frequency\n",
              "Goals_per_game           \n",
              "0                      17\n",
              "1                      45\n",
              "2                      51\n",
              "3                      37\n",
              "4                      25\n",
              "5                      11\n",
              "6                       3\n",
              "7                       2\n",
              "8                       1"
            ]
          },
          "metadata": {
            "tags": []
          },
          "execution_count": 58
        }
      ]
    },
    {
      "cell_type": "markdown",
      "metadata": {
        "id": "-MiNesIaMLzk",
        "colab_type": "text"
      },
      "source": [
        "To find the mean number of goals scored per game, we would need to find the sum of all 192 numbers, then divide that sum by 192. <br>Rather than add 192 numbers, we use the fact that the same numbers appear many times. <br>For example, the number 0 appears 17 times, the number 1 appears 45 times, the number 2 appears 51 times, etc.\n",
        "\n",
        "If we add up 17 zeros, we get 0. If we add up 45 ones, we get 45. If we add up 51 twos, we get 102. Repeated addition is multiplication.\n",
        "\n",
        "Thus, the sum of the 192 numbers = 0(17) + 1(45) + 2(51) + 3(37) + 4(25) + 5(11) + 6(3) + 7(2) + 8(1) = 453.\n",
        "\n",
        "**The mean is 453 / 192 = 2.359.**"
      ]
    },
    {
      "cell_type": "markdown",
      "metadata": {
        "id": "S2EjndpxMi6p",
        "colab_type": "text"
      },
      "source": [
        "This way of calculating a mean is sometimes referred to as a** weighted average**, since each value is \"weighted\" by its frequency. Note that, in this example, the values of 1, 2, and 3 are most heavily weighted.\n",
        "\n"
      ]
    },
    {
      "cell_type": "code",
      "metadata": {
        "id": "9rzz_6g4MWHv",
        "colab_type": "code",
        "outputId": "eb7aade6-3528-4545-ee11-5fcc89cb0ad5",
        "colab": {
          "base_uri": "https://localhost:8080/",
          "height": 34
        }
      },
      "source": [
        "total_hours = 0\n",
        "freq = [3,5,15,25,20,15,5,1,1]\n",
        "\n",
        "for i in range(len(freq)):\n",
        "    x = freq[i]\n",
        "    total_hours += (i+1) * x\n",
        "\n",
        "print('Total hours is {} and average hours is {}'.format(total_hours, total_hours / np.sum(freq)))"
      ],
      "execution_count": 59,
      "outputs": [
        {
          "output_type": "stream",
          "text": [
            "Total hours is 400 and average hours is 4.444444444444445\n"
          ],
          "name": "stdout"
        }
      ]
    },
    {
      "cell_type": "markdown",
      "metadata": {
        "id": "hx5q0ThMWkRD",
        "colab_type": "text"
      },
      "source": [
        "<h3>Median</h3>\n",
        "The median M is the midpoint of the distribution. It is the number such that half of the observations fall above, and half fall below. To find the median:\n",
        "\n",
        "Order the data from smallest to largest.\n",
        "Consider whether n, the number of observations, is even or odd.<br>\n",
        "**If n is odd**, the median M is the center observation in the ordered list. This observation is the one \"sitting\" in the (n + 1) / 2 spot in the ordered list.<br>\n",
        "**If n is even**, the median M is the mean of the two center observations in the ordered list. <br>These two observations are the ones \"sitting\" in the n / 2 and n / 2 + 1 spots in the ordered list."
      ]
    },
    {
      "cell_type": "markdown",
      "metadata": {
        "id": "CV49DfoqI4-j",
        "colab_type": "text"
      },
      "source": [
        "##Let's Summarize:\n",
        "\n",
        "The three main numerical measures for the center of a distribution are the mode, mean ($\\bar{x}$), and the median (M). <br>\n",
        "The mode is the most frequently occurring value. <br>\n",
        "The mean  is the average value,<br>\n",
        "While the median is the middle value.\n",
        "The mean is very sensitive to outliers (as it factors in their magnitude), <br>\n",
        "While the median is resistant to outliers.<br>\n",
        "The mean is an appropriate measure of center only for symmetric distributions with no outliers. <br>\n",
        "In all other cases, the median should be used to describe the center of the distribution."
      ]
    },
    {
      "cell_type": "markdown",
      "metadata": {
        "id": "owMQpaLFJM5V",
        "colab_type": "text"
      },
      "source": [
        ""
      ]
    },
    {
      "cell_type": "code",
      "metadata": {
        "id": "5jEQb3ELW2jN",
        "colab_type": "code",
        "colab": {}
      },
      "source": [
        ""
      ],
      "execution_count": 0,
      "outputs": []
    }
  ]
}