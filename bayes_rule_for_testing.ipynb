{
  "nbformat": 4,
  "nbformat_minor": 0,
  "metadata": {
    "colab": {
      "name": "bayes_rule_for_testing.ipynb",
      "provenance": [],
      "collapsed_sections": [],
      "authorship_tag": "ABX9TyOBFmmE0w44TKz6buqFLdZI",
      "include_colab_link": true
    },
    "kernelspec": {
      "name": "python3",
      "display_name": "Python 3"
    }
  },
  "cells": [
    {
      "cell_type": "markdown",
      "metadata": {
        "id": "view-in-github",
        "colab_type": "text"
      },
      "source": [
        "<a href=\"https://colab.research.google.com/github/Lawrence-Krukrubo/Probability-and-Statistics/blob/master/bayes_rule_for_testing.ipynb\" target=\"_parent\"><img src=\"https://colab.research.google.com/assets/colab-badge.svg\" alt=\"Open In Colab\"/></a>"
      ]
    },
    {
      "cell_type": "markdown",
      "metadata": {
        "id": "be-wsksOjWqd"
      },
      "source": [
        "UK has a HIV rate of about 1.7 per 1000 people [link text](https://www.avert.org/professionals/hiv-around-world/western-central-europe-north-america/uk)"
      ]
    },
    {
      "cell_type": "code",
      "metadata": {
        "id": "41B8vNichbYj",
        "outputId": "b00d7c6e-8014-4339-fdba-6a4428837956",
        "colab": {
          "base_uri": "https://localhost:8080/",
          "height": 34
        }
      },
      "source": [
        "p_hiv = round(1.7 / 1000,4)\n",
        "p_no_hiv = round(1 - p_hiv, 4)\n",
        "\n",
        "print(f'P(HIV) is {p_hiv} and P(No-HIV) is {p_no_hiv}')"
      ],
      "execution_count": 32,
      "outputs": [
        {
          "output_type": "stream",
          "text": [
            "P(HIV) is 0.0017 and P(No-HIV) is 0.9983\n"
          ],
          "name": "stdout"
        }
      ]
    },
    {
      "cell_type": "markdown",
      "metadata": {
        "id": "A49L-o4pkjq5"
      },
      "source": [
        "Latest testing has 99% accuracy. Meaning if you have HIV, 99% of the time, you would test positive(sensitivity) and if you don't have it, 99% of the time you'd test negative(specificity)."
      ]
    },
    {
      "cell_type": "code",
      "metadata": {
        "id": "ZR3E4CigjuXZ",
        "outputId": "241b40ae-315c-4a71-c4f7-d93d5bce76e0",
        "colab": {
          "base_uri": "https://localhost:8080/",
          "height": 34
        }
      },
      "source": [
        "p_positive_given_hiv = 0.99  # Sensitivity\n",
        "p_negative_given_no_hiv = 0.99  # Specificity\n",
        "\n",
        "# Therefore let's find the complements of Sensitivity and Specificity\n",
        "# The first one below is called False-Negative and the second one is called,\n",
        "# false-Positive\n",
        "\n",
        "p_negative_given_hiv = round(1 - p_positive_given_hiv, 4)\n",
        "p_positive_given_no_hiv = round(1 - p_negative_given_no_hiv, 4)\n",
        "\n",
        "print(f'p_negative_given_hiv({p_negative_given_hiv}), p_positive_given_no_hiv({p_positive_given_no_hiv})')"
      ],
      "execution_count": 33,
      "outputs": [
        {
          "output_type": "stream",
          "text": [
            "p_negative_given_hiv(0.01), p_positive_given_no_hiv(0.01)\n"
          ],
          "name": "stdout"
        }
      ]
    },
    {
      "cell_type": "markdown",
      "metadata": {
        "id": "-j1X0Q83nVfC"
      },
      "source": [
        "Therefore after receiving a positive test result for HIV, what is the probability of having HIV, given the positive test result.\n",
        "\n",
        "Now we use Bayes Theory to find or infer this new Probaility\n",
        "\n",
        "<h2>$Bayes-Theory = P(A|B) = \\frac{P(B|A) * P(A)} {P(B)}$</h2>"
      ]
    },
    {
      "cell_type": "markdown",
      "metadata": {
        "id": "58EI6C4Vrvb3"
      },
      "source": [
        "In our case here, Bayes rule would be\n",
        "<h2>$P(HIV|Positive) = \\frac{P(Positive|HIV) * P(HIV)} {P(Positive)}$</h2>\n",
        "\n",
        "This means the Probability of HIV given a Positive result is equal to the Probability of a Positive result given HIV times the Probability of HIV, divided by the Total Probability of a Positive test result."
      ]
    },
    {
      "cell_type": "markdown",
      "metadata": {
        "id": "8eG0ePxvqHL_"
      },
      "source": [
        "Let's solve the numerator part of Bayes Theorem first, this is the part that says: <h2>$P(Positive|HIV) * P(HIV)$</h2>"
      ]
    },
    {
      "cell_type": "code",
      "metadata": {
        "id": "MOxz5UoilHL_",
        "outputId": "de25f6c1-090f-40c2-911d-701f7ff976b0",
        "colab": {
          "base_uri": "https://localhost:8080/",
          "height": 34
        }
      },
      "source": [
        "numerator = round(p_positive_given_hiv * p_hiv, 4)\n",
        "print(f'Numerator is {numerator}')"
      ],
      "execution_count": 34,
      "outputs": [
        {
          "output_type": "stream",
          "text": [
            "Numerator is 0.0017\n"
          ],
          "name": "stdout"
        }
      ]
    },
    {
      "cell_type": "markdown",
      "metadata": {
        "id": "ceLQDBaPrXfs"
      },
      "source": [
        "Now, let's solve the denominator part of Bayes Theorem, this is the part that says: <h2>$P(Positive)$</h2>\n",
        "\n",
        "Do note that to find This Probability of Positive, we need to find what is called the Total Probability of testing Positive to HIV.<br>\n",
        "This is the Probability of testing positive to HIV given HIV times probability of HIV, plus the Probability of testing positive to HIV given No-HIV times probability of No-HIV.<br>\n",
        "This is often the difficult part of calculating Bayes Theorem, written as \n",
        "<h2>$P(Positive|HIV)*P(HIV)+P(Positive|No-HIV)*P(No-HIV)$</h2>"
      ]
    },
    {
      "cell_type": "code",
      "metadata": {
        "id": "KJ861AGvlHP-",
        "outputId": "c31d6d78-f272-46d6-c973-eb3f6f1eee7a",
        "colab": {
          "base_uri": "https://localhost:8080/",
          "height": 34
        }
      },
      "source": [
        "# since we had already calculated all of these, let's plug them in\n",
        "denominator = round(p_positive_given_hiv * p_hiv + p_positive_given_no_hiv * p_no_hiv, 4)\n",
        "print(f'Denominator is {denominator}')"
      ],
      "execution_count": 35,
      "outputs": [
        {
          "output_type": "stream",
          "text": [
            "Denominator is 0.0117\n"
          ],
          "name": "stdout"
        }
      ]
    },
    {
      "cell_type": "markdown",
      "metadata": {
        "id": "EdGCLjvzvM13"
      },
      "source": [
        "Therefore to find the Probability of getting hiv given a Positive test result, we divide the numerator by the denominator"
      ]
    },
    {
      "cell_type": "code",
      "metadata": {
        "id": "VPMX6x9mlHUw",
        "outputId": "797f9442-78c6-421b-a685-389ba5a22944",
        "colab": {
          "base_uri": "https://localhost:8080/",
          "height": 34
        }
      },
      "source": [
        "p_hiv_given_positive = round(numerator / denominator, 4)\n",
        "print(p_hiv_given_positive)"
      ],
      "execution_count": 36,
      "outputs": [
        {
          "output_type": "stream",
          "text": [
            "0.1453\n"
          ],
          "name": "stdout"
        }
      ]
    },
    {
      "cell_type": "markdown",
      "metadata": {
        "id": "LsNHF9Kpwivb"
      },
      "source": [
        "Really? 14% chance of having HIV in the UK, given a positive HIV test result,  when the HIV test has a proven record of 99% accuracy?.. How is this even possible?"
      ]
    },
    {
      "cell_type": "markdown",
      "metadata": {
        "id": "Uxev_Xjpxr6p"
      },
      "source": [
        "To find out more, let's explore, let's say we start with 1,000,000 people and they have two options, HIV or no HIV. So since 1.7 of every 1000 have HIV, then out of 1,000,000 people 1.7 * 1000 will have HIV = 1700."
      ]
    },
    {
      "cell_type": "code",
      "metadata": {
        "id": "thG2Fw1ywvPD",
        "outputId": "1a8a8e6f-81a5-4ea2-80ab-1874ab19ea07",
        "colab": {
          "base_uri": "https://localhost:8080/",
          "height": 34
        }
      },
      "source": [
        "# given that 1.7 out of every 1k have HIV, then for 100k people...\n",
        "hiv = 1.7 * 1000\n",
        "no_hiv  = 1000000 - hiv\n",
        "print(f'hiv:{hiv}, no_hiv:{no_hiv}')"
      ],
      "execution_count": 38,
      "outputs": [
        {
          "output_type": "stream",
          "text": [
            "hiv:1700.0, no_hiv:998300.0\n"
          ],
          "name": "stdout"
        }
      ]
    },
    {
      "cell_type": "markdown",
      "metadata": {
        "id": "a1Ikbd9ZzPo1"
      },
      "source": [
        "Now let's remember that for every 100 cases, 99 gets correctly diagnosed (99% accurate) and 1 gets incorrectly diagnosed. This applies to both groups:- hiv and no_hiv. Let's define some important terms.\n",
        "\n",
        "1. False-Positive: This is when a test says a person is Positive, but its false as the person is truly Negative.\n",
        "2. False-Negative: This is when a test says a person is Negative, but its false as the person is truly Positive.\n",
        "3. True-Positive: This is when a test says a person is Positive and its True.\n",
        "4. True-Negative: This is when a test says a person is Negative and it's True."
      ]
    },
    {
      "cell_type": "code",
      "metadata": {
        "id": "HYsInY3Lze2p",
        "outputId": "50dfb6f4-fcab-49ef-8c7c-ef02da5e544f",
        "colab": {
          "base_uri": "https://localhost:8080/",
          "height": 34
        }
      },
      "source": [
        "# For the hiv group\n",
        "true_positive_hiv_group = round((99/100) * hiv)\n",
        "false_negative_hiv_group = hiv - true_positive_hiv_group\n",
        "\n",
        "print(f'true-positive in hiv-group: {true_positive_hiv_group}, false-negative in hiv-group: {false_negative_hiv_group}')"
      ],
      "execution_count": 39,
      "outputs": [
        {
          "output_type": "stream",
          "text": [
            "true-positive in hiv-group: 1683, false-negative in hiv-group: 17.0\n"
          ],
          "name": "stdout"
        }
      ]
    },
    {
      "cell_type": "code",
      "metadata": {
        "id": "YMEoRSUs0YlU",
        "outputId": "ad55d873-9c72-468f-bdf2-d29c5a2eaa75",
        "colab": {
          "base_uri": "https://localhost:8080/",
          "height": 34
        }
      },
      "source": [
        "# For the no-hiv group\n",
        "true_negative_no_hiv_group = round((99/100) * no_hiv)\n",
        "false_positive_no_hiv_group = no_hiv - true_negative_no_hiv_group\n",
        "\n",
        "print(f'false-positive in no-hiv-group: {false_positive_no_hiv_group}, true-negative in no-hiv-group: {true_negative_no_hiv_group}')"
      ],
      "execution_count": 40,
      "outputs": [
        {
          "output_type": "stream",
          "text": [
            "false-positive in no-hiv-group: 9983.0, true-negative in no-hiv-group: 988317\n"
          ],
          "name": "stdout"
        }
      ]
    },
    {
      "cell_type": "markdown",
      "metadata": {
        "id": "7YmVXwzh7gSI"
      },
      "source": [
        "So we have seen four distinct groups above\n",
        "\n",
        "1. true_positive_hiv_group: for those who have hiv and correctly classified as positive, ideally given drugs and care.\n",
        "2. false_negative_hiv_group: For those who have hiv, but sent home in the false evidence that they don't have hiv.\n",
        "3. true_negative_no_hiv_group: For those who don't have hiv and sent home on the true evidence of no-hiv.\n",
        "4. false_positive_no_hiv_group: These are the confused set of Patients who don't have hiv but diagnosed with hiv and sent for more tests and care and all the expected help and trauma."
      ]
    },
    {
      "cell_type": "markdown",
      "metadata": {
        "id": "_Bgvrubb8wD2"
      },
      "source": [
        "So back to the test result of 14% for hiv given a positive result... We know that since we tested positive, then we must be in either of the positive sets.<br>\n",
        "This means we must be in either true_positive_hiv_group or false_positive_no_hiv_group. So what is the probability that we are actually in the true_positive_hiv_group?"
      ]
    },
    {
      "cell_type": "code",
      "metadata": {
        "id": "b0H3jvBT8vGw",
        "outputId": "4a730649-f241-42bf-9557-b554c7b098d6",
        "colab": {
          "base_uri": "https://localhost:8080/",
          "height": 51
        }
      },
      "source": [
        "p_true_positive_hiv_group = true_positive_hiv_group / (true_positive_hiv_group + false_positive_no_hiv_group)\n",
        "p_false_postive_no_hiv_group = false_positive_no_hiv_group / (true_positive_hiv_group + false_positive_no_hiv_group)\n",
        "\n",
        "print(f'Probability of being in true-positive-hiv-group; {round(p_true_positive_hiv_group, 4)}')\n",
        "print(f\"Probability of being in false-positive-no-hiv-group; {round(p_false_postive_no_hiv_group, 4)}\")"
      ],
      "execution_count": 41,
      "outputs": [
        {
          "output_type": "stream",
          "text": [
            "Probability of being in true-positive-hiv-group; 0.1443\n",
            "Probability of being in false-positive-no-hiv-group; 0.8557\n"
          ],
          "name": "stdout"
        }
      ]
    },
    {
      "cell_type": "markdown",
      "metadata": {
        "id": "2clK5Ho2MUM3"
      },
      "source": [
        "So we can clearly see that given the evidence of 99% accuracy for HIV test in the UK and the additional information that the rate of HIV infection per 1000 people in the UK is 1.7, we have a 14.4% chance of actually having HIV even if we're diagnosed with HIV and a 85.6% chance of having being mis-diagnosed as HIV-positive, when we very well could be negative. "
      ]
    },
    {
      "cell_type": "markdown",
      "metadata": {
        "id": "zGUCqQVbULD_"
      },
      "source": [
        "Let's see some important metrics from the confusion matrix for this case"
      ]
    },
    {
      "cell_type": "code",
      "metadata": {
        "id": "-dsozgSx_BGY",
        "outputId": "8bc42565-f403-40f2-f803-346ae65c4d44",
        "colab": {
          "base_uri": "https://localhost:8080/",
          "height": 34
        }
      },
      "source": [
        "total_assumed = true_positive_hiv_group + false_positive_no_hiv_group + true_negative_no_hiv_group + false_negative_hiv_group\n",
        "print(total_assumed)"
      ],
      "execution_count": 43,
      "outputs": [
        {
          "output_type": "stream",
          "text": [
            "1000000.0\n"
          ],
          "name": "stdout"
        }
      ]
    },
    {
      "cell_type": "code",
      "metadata": {
        "id": "VAlsRVcaNrBJ",
        "outputId": "53ddb716-66c8-49fd-be5e-4b63a32d5387",
        "colab": {
          "base_uri": "https://localhost:8080/",
          "height": 34
        }
      },
      "source": [
        "accuracy = (true_positive_hiv_group + true_negative_no_hiv_group) / total_assumed\n",
        "print(accuracy)"
      ],
      "execution_count": 44,
      "outputs": [
        {
          "output_type": "stream",
          "text": [
            "0.99\n"
          ],
          "name": "stdout"
        }
      ]
    },
    {
      "cell_type": "code",
      "metadata": {
        "id": "-ZkCkx6IOI9B",
        "outputId": "f12f9fea-c106-4a0b-f3bd-1083997b9845",
        "colab": {
          "base_uri": "https://localhost:8080/",
          "height": 34
        }
      },
      "source": [
        "# Recall or Sensitivity or True Positive Rate:\n",
        "# Percent of positive cases identified from actual total positive cases\n",
        "recall = true_positive_hiv_group / (true_positive_hiv_group + false_negative_hiv_group)\n",
        "recall = round(recall, 4)\n",
        "print(recall)"
      ],
      "execution_count": 49,
      "outputs": [
        {
          "output_type": "stream",
          "text": [
            "0.99\n"
          ],
          "name": "stdout"
        }
      ]
    },
    {
      "cell_type": "code",
      "metadata": {
        "id": "qUuKJufWP_9Z",
        "outputId": "0232cf7e-2302-4cd6-fd5c-fbd8001c9eff",
        "colab": {
          "base_uri": "https://localhost:8080/",
          "height": 34
        }
      },
      "source": [
        "# Precision or Positive-Predicted-Value:\n",
        "# Percent of cases identified as positive that are truly positive\n",
        "precision = true_positive_hiv_group / (true_positive_hiv_group + false_positive_no_hiv_group)\n",
        "precision = round(precision, 4)\n",
        "print(precision)"
      ],
      "execution_count": 51,
      "outputs": [
        {
          "output_type": "stream",
          "text": [
            "0.1443\n"
          ],
          "name": "stdout"
        }
      ]
    },
    {
      "cell_type": "code",
      "metadata": {
        "id": "QzlLsjfSSm-I",
        "outputId": "8f29875e-a63d-48cb-80c1-085ab75c11e7",
        "colab": {
          "base_uri": "https://localhost:8080/",
          "height": 34
        }
      },
      "source": [
        "# True-negative-rate: Aka Specificity,\n",
        "# Percent of negative cases identified from actual total negative cases.\n",
        "specificity = true_negative_no_hiv_group / (true_negative_no_hiv_group + false_positive_no_hiv_group)\n",
        "specificity = round(specificity, 4)\n",
        "print(specificity)"
      ],
      "execution_count": 52,
      "outputs": [
        {
          "output_type": "stream",
          "text": [
            "0.99\n"
          ],
          "name": "stdout"
        }
      ]
    },
    {
      "cell_type": "markdown",
      "metadata": {
        "id": "Oz8Rwe-GTeqn"
      },
      "source": [
        "As we can see the test does a good job of catching 99% of infections (sensitivity) and where there are no infections, it catches 99% of no infections (specificity). But it does a poor job on Precision. Meaning of the percent of cases identified as positive, it includes 9983 non-positive cases as positive. And this is the crux of the matter in this post."
      ]
    },
    {
      "cell_type": "markdown",
      "metadata": {
        "id": "RLjmdUK_U1uh"
      },
      "source": [
        "Let's see the overall weighted harmonic mean of the performance of the Test"
      ]
    },
    {
      "cell_type": "code",
      "metadata": {
        "id": "NhtHhspQUFTb",
        "outputId": "e214eda9-e11a-4f5e-d7ec-12390487bf46",
        "colab": {
          "base_uri": "https://localhost:8080/",
          "height": 34
        }
      },
      "source": [
        "# Lets see the F1-score\n",
        "f1_score  = 2 * ((precision * recall) / (precision + recall))\n",
        "f1_score = round(f1_score, 4)\n",
        "print(f1_score)"
      ],
      "execution_count": 53,
      "outputs": [
        {
          "output_type": "stream",
          "text": [
            "0.2519\n"
          ],
          "name": "stdout"
        }
      ]
    },
    {
      "cell_type": "markdown",
      "metadata": {
        "id": "tXtllMWpVeV7"
      },
      "source": [
        "So we see that although the test is 99% accurate and has a TPR and TNR of 99%, it's quite terrible over all, with f1_score of only 25% "
      ]
    },
    {
      "cell_type": "markdown",
      "metadata": {
        "id": "9BuqETBgYMq9"
      },
      "source": [
        "<h2>To Recap:</h2>\n",
        "\n",
        "<h2>$Bayes-Theory = P(A|B) = \\frac{P(B|A) * P(A)} {P(B)}$</h2>\n",
        "\n",
        "1. $P(A|B)$: Trying to find the Probability of HIV($A$) given a positive test result($B$) is called the Posterior. This is what we want to compute given the evidence\n",
        "2. $P(B|A)$: The existing conditional probability of being positive given HIV is called the likelihood. this is the likelihood of a positive diagnosis given HIV. \n",
        "3. $P(A)$: The probability of HIV is the Prior, this is the additional evidence we found after knowing that the test has 99% accuracy.\n",
        "4. $P(B)$: The Probability of Positive is the marginal likelihood, simply put, it's the total probability of being positive to HIV given HIV times probability of HIV plus its complement, which is the probability of being positive to HIV given no HIV  times the probability of no HIV."
      ]
    },
    {
      "cell_type": "code",
      "metadata": {
        "id": "0YCyXJI0VtYx"
      },
      "source": [
        ""
      ],
      "execution_count": null,
      "outputs": []
    }
  ]
}