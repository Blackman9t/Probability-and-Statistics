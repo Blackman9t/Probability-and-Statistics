{
  "nbformat": 4,
  "nbformat_minor": 0,
  "metadata": {
    "colab": {
      "name": "bayes_rule_for_testing.ipynb",
      "provenance": [],
      "collapsed_sections": [],
      "authorship_tag": "ABX9TyOZOsZQfHOBh5QqXgofYrvA",
      "include_colab_link": true
    },
    "kernelspec": {
      "name": "python3",
      "display_name": "Python 3"
    }
  },
  "cells": [
    {
      "cell_type": "markdown",
      "metadata": {
        "id": "view-in-github",
        "colab_type": "text"
      },
      "source": [
        "<a href=\"https://colab.research.google.com/github/Lawrence-Krukrubo/Probability-and-Statistics/blob/master/bayes_rule_for_testing.ipynb\" target=\"_parent\"><img src=\"https://colab.research.google.com/assets/colab-badge.svg\" alt=\"Open In Colab\"/></a>"
      ]
    },
    {
      "cell_type": "markdown",
      "metadata": {
        "id": "be-wsksOjWqd"
      },
      "source": [
        "UK has a HIV rate of about 1.7 per 1000 people [link text](https://www.avert.org/professionals/hiv-around-world/western-central-europe-north-america/uk)"
      ]
    },
    {
      "cell_type": "code",
      "metadata": {
        "id": "41B8vNichbYj",
        "outputId": "2ac5af2b-8ecf-40bc-c729-89dbca129d1d",
        "colab": {
          "base_uri": "https://localhost:8080/",
          "height": 34
        }
      },
      "source": [
        "p_hiv = round(1.7 / 1000,4)\n",
        "p_no_hiv = round(1 - p_hiv, 4)\n",
        "\n",
        "print(f'P(HIV) is {p_hiv} and P(No-HIV) is {p_no_hiv}')"
      ],
      "execution_count": 1,
      "outputs": [
        {
          "output_type": "stream",
          "text": [
            "P(HIV) is 0.0017 and P(No-HIV) is 0.9983\n"
          ],
          "name": "stdout"
        }
      ]
    },
    {
      "cell_type": "markdown",
      "metadata": {
        "id": "A49L-o4pkjq5"
      },
      "source": [
        "Latest testing has 99% accuracy. Meaning if you have HIV, 99% of the time, you would test positive(sensitivity) and if you don't have it, 99% of the time you'd test negative(specificity)."
      ]
    },
    {
      "cell_type": "code",
      "metadata": {
        "id": "ZR3E4CigjuXZ",
        "outputId": "f9589b00-ef1e-4a78-a9f2-f5b6b5da9895",
        "colab": {
          "base_uri": "https://localhost:8080/",
          "height": 34
        }
      },
      "source": [
        "p_positive_given_hiv = 0.99  # Sensitivity\n",
        "p_negative_given_no_hiv = 0.99  # Specificity\n",
        "\n",
        "# Therefore let's find the complements of Sensitivity and Specificity\n",
        "# The first one below is called False-Negative and the second one is called,\n",
        "# false-Positive\n",
        "\n",
        "p_negative_given_hiv = round(1 - p_positive_given_hiv, 4)\n",
        "p_positive_given_no_hiv = round(1 - p_negative_given_no_hiv, 4)\n",
        "\n",
        "print(f'p_negative_given_hiv({p_negative_given_hiv}), p_positive_given_no_hiv({p_positive_given_no_hiv})')"
      ],
      "execution_count": 2,
      "outputs": [
        {
          "output_type": "stream",
          "text": [
            "p_negative_given_hiv(0.01), p_positive_given_no_hiv(0.01)\n"
          ],
          "name": "stdout"
        }
      ]
    },
    {
      "cell_type": "markdown",
      "metadata": {
        "id": "-j1X0Q83nVfC"
      },
      "source": [
        "Therefore after receiving a positive test result for HIV, what is the probability of having HIV, given the positive test result.\n",
        "\n",
        "Now we use Bayes Theory to find or infer this new Probaility\n",
        "\n",
        "<h2>$Bayes-Theory = P(A|B) = \\frac{P(B|A) * P(A)} {P(B)}$</h2>"
      ]
    },
    {
      "cell_type": "markdown",
      "metadata": {
        "id": "58EI6C4Vrvb3"
      },
      "source": [
        "In our case here, Bayes rule would be\n",
        "<h2>$P(HIV|Positive) = \\frac{P(Positive|HIV) * P(HIV)} {P(Positive)}$</h2>\n",
        "\n",
        "This means the Probability of HIV given a Positive result is equal to the Probability of a Positive result given HIV times the Probability of HIV, divided by the Total Probability of a Positive test result."
      ]
    },
    {
      "cell_type": "markdown",
      "metadata": {
        "id": "8eG0ePxvqHL_"
      },
      "source": [
        "Let's solve the numerator part of Bayes Theorem first, this is the part that says: <h2>$P(Positive|HIV) * P(HIV)$</h2>"
      ]
    },
    {
      "cell_type": "code",
      "metadata": {
        "id": "MOxz5UoilHL_",
        "outputId": "45a60278-a112-4820-d9fb-41116fc565f6",
        "colab": {
          "base_uri": "https://localhost:8080/",
          "height": 34
        }
      },
      "source": [
        "numerator = round(p_positive_given_hiv * p_hiv, 4)\n",
        "print(f'Numerator is {numerator}')"
      ],
      "execution_count": 3,
      "outputs": [
        {
          "output_type": "stream",
          "text": [
            "Numerator is 0.0017\n"
          ],
          "name": "stdout"
        }
      ]
    },
    {
      "cell_type": "markdown",
      "metadata": {
        "id": "ceLQDBaPrXfs"
      },
      "source": [
        "Now, let's solve the denominator part of Bayes Theorem, this is the part that says: <h2>$P(Positive)$</h2>\n",
        "\n",
        "Do note that to find This Probability of Positive, we need to find what is called the Total Probability of testing Positive to HIV.<br>\n",
        "This is the Probability of testing positive to HIV given HIV times probability of HIV, plus the Probability of testing positive to HIV given No-HIV times probability of No-HIV.<br>\n",
        "This is often the difficult part of calculating Bayes Theorem, written as \n",
        "<h2>$P(Positive|HIV)*P(HIV)+P(Positive|No-HIV)*P(No-HIV)$</h2>"
      ]
    },
    {
      "cell_type": "code",
      "metadata": {
        "id": "KJ861AGvlHP-",
        "outputId": "d0f5479c-23f8-451a-e40e-4a7e06162c3e",
        "colab": {
          "base_uri": "https://localhost:8080/",
          "height": 34
        }
      },
      "source": [
        "# since we had already calculated all of these, let's plug them in\n",
        "denominator = round(p_positive_given_hiv * p_hiv + p_positive_given_no_hiv * p_no_hiv, 4)\n",
        "print(f'Denominator is {denominator}')"
      ],
      "execution_count": 4,
      "outputs": [
        {
          "output_type": "stream",
          "text": [
            "Denominator is 0.0117\n"
          ],
          "name": "stdout"
        }
      ]
    },
    {
      "cell_type": "markdown",
      "metadata": {
        "id": "EdGCLjvzvM13"
      },
      "source": [
        "Therefore to find the Probability of getting hiv given a Positive test result, we divide the numerator by the denominator"
      ]
    },
    {
      "cell_type": "code",
      "metadata": {
        "id": "VPMX6x9mlHUw",
        "outputId": "3bfce50b-c8f9-4c80-8437-474c4bbf7cc6",
        "colab": {
          "base_uri": "https://localhost:8080/",
          "height": 34
        }
      },
      "source": [
        "p_hiv_given_positive = round(numerator / denominator, 4)\n",
        "print(p_hiv_given_positive)"
      ],
      "execution_count": 5,
      "outputs": [
        {
          "output_type": "stream",
          "text": [
            "0.1453\n"
          ],
          "name": "stdout"
        }
      ]
    },
    {
      "cell_type": "markdown",
      "metadata": {
        "id": "LsNHF9Kpwivb"
      },
      "source": [
        "Really? 14% chance of having HIV in the UK, given a positive HIV test result,  when the HIV test has a proven record of 99% accuracy?.. How is this even possible?"
      ]
    },
    {
      "cell_type": "markdown",
      "metadata": {
        "id": "Uxev_Xjpxr6p"
      },
      "source": [
        "To find out more, let's explore, let's say we start with 1,000,000 people and they have two options, HIV or no HIV. So since 1.7 of every 1000 have HIV, then out of 1,000,000 people 1.7 * 1000 will have HIV = 1700."
      ]
    },
    {
      "cell_type": "code",
      "metadata": {
        "id": "thG2Fw1ywvPD",
        "outputId": "6fe10f2f-c4a6-429c-8fb5-70db875b02a6",
        "colab": {
          "base_uri": "https://localhost:8080/",
          "height": 34
        }
      },
      "source": [
        "# given that 1.7 out of every 1k have HIV, then for 100k people...\n",
        "hiv = 1.7 * 1000\n",
        "no_hiv  = 1000000 - hiv\n",
        "print(f'hiv:{hiv}, no_hiv:{no_hiv}')"
      ],
      "execution_count": 6,
      "outputs": [
        {
          "output_type": "stream",
          "text": [
            "hiv:1700.0, no_hiv:998300.0\n"
          ],
          "name": "stdout"
        }
      ]
    },
    {
      "cell_type": "markdown",
      "metadata": {
        "id": "a1Ikbd9ZzPo1"
      },
      "source": [
        "Now let's remember that for every 100 cases, 99 gets correctly diagnosed (99% accurate) and 1 gets incorrectly diagnosed. This applies to both groups:- hiv and no_hiv. Let's define some important terms.\n",
        "\n",
        "1. False-Positive: This is when a test says a person is Positive, but its false as the person is truly Negative.\n",
        "2. False-Negative: This is when a test says a person is Negative, but its false as the person is truly Positive.\n",
        "3. True-Positive: This is when a test says a person is Positive and its True.\n",
        "4. True-Negative: This is when a test says a person is Negative and it's True."
      ]
    },
    {
      "cell_type": "code",
      "metadata": {
        "id": "HYsInY3Lze2p",
        "outputId": "a4dbb3d7-7a13-4409-f26a-e2e4e6a2bcd9",
        "colab": {
          "base_uri": "https://localhost:8080/",
          "height": 34
        }
      },
      "source": [
        "# For the hiv group\n",
        "true_positive_hiv_group = round((99/100) * hiv)\n",
        "false_negative_hiv_group = hiv - true_positive_hiv_group\n",
        "\n",
        "print(f'true-positive in hiv-group: {true_positive_hiv_group}, false-negative in hiv-group: {false_negative_hiv_group}')"
      ],
      "execution_count": 7,
      "outputs": [
        {
          "output_type": "stream",
          "text": [
            "true-positive in hiv-group: 1683, false-negative in hiv-group: 17.0\n"
          ],
          "name": "stdout"
        }
      ]
    },
    {
      "cell_type": "code",
      "metadata": {
        "id": "YMEoRSUs0YlU",
        "outputId": "e18d80c8-19d4-4880-b2b8-37c4c4a06e39",
        "colab": {
          "base_uri": "https://localhost:8080/",
          "height": 34
        }
      },
      "source": [
        "# For the no-hiv group\n",
        "true_negative_no_hiv_group = round((99/100) * no_hiv)\n",
        "false_positive_no_hiv_group = no_hiv - true_negative_no_hiv_group\n",
        "\n",
        "print(f'false-positive in no-hiv-group: {false_positive_no_hiv_group}, true-negative in no-hiv-group: {true_negative_no_hiv_group}')"
      ],
      "execution_count": 8,
      "outputs": [
        {
          "output_type": "stream",
          "text": [
            "false-positive in no-hiv-group: 9983.0, true-negative in no-hiv-group: 988317\n"
          ],
          "name": "stdout"
        }
      ]
    },
    {
      "cell_type": "markdown",
      "metadata": {
        "id": "7YmVXwzh7gSI"
      },
      "source": [
        "So we have seen four distinct groups above\n",
        "\n",
        "1. true_positive_hiv_group: for those who have hiv and correctly classified as positive, ideally given drugs and care.\n",
        "2. false_negative_hiv_group: For those who have hiv, but sent home in the false evidence that they don't have hiv.\n",
        "3. true_negative_no_hiv_group: For those who don't have hiv and sent home on the true evidence of no-hiv.\n",
        "4. false_positive_no_hiv_group: These are the confused set of Patients who don't have hiv but diagnosed with hiv and sent for more tests and care and all the expected help and trauma."
      ]
    },
    {
      "cell_type": "markdown",
      "metadata": {
        "id": "_Bgvrubb8wD2"
      },
      "source": [
        "So back to the test result of 14% for hiv given a positive result... We know that since we tested positive, then we must be in either of the positive sets.<br>\n",
        "This means we must be in either true_positive_hiv_group or false_positive_no_hiv_group. So what is the probability that we are actually in the true_positive_hiv_group?"
      ]
    },
    {
      "cell_type": "code",
      "metadata": {
        "id": "b0H3jvBT8vGw",
        "outputId": "066f284d-e263-4e9c-827e-c14349c76913",
        "colab": {
          "base_uri": "https://localhost:8080/",
          "height": 51
        }
      },
      "source": [
        "p_true_positive_hiv_group = true_positive_hiv_group / (true_positive_hiv_group + false_positive_no_hiv_group)\n",
        "p_false_postive_no_hiv_group = false_positive_no_hiv_group / (true_positive_hiv_group + false_positive_no_hiv_group)\n",
        "\n",
        "print(f'Probability of being in true-positive-hiv-group; {round(p_true_positive_hiv_group, 4)}')\n",
        "print(f\"Probability of being in false-positive-no-hiv-group; {round(p_false_postive_no_hiv_group, 4)}\")"
      ],
      "execution_count": 9,
      "outputs": [
        {
          "output_type": "stream",
          "text": [
            "Probability of being in true-positive-hiv-group; 0.1443\n",
            "Probability of being in false-positive-no-hiv-group; 0.8557\n"
          ],
          "name": "stdout"
        }
      ]
    },
    {
      "cell_type": "markdown",
      "metadata": {
        "id": "2clK5Ho2MUM3"
      },
      "source": [
        "So we can clearly see that given the evidence of 99% accuracy for HIV test in the UK and the additional information that the rate of HIV infection per 1000 people in the UK is 1.7, we have a 14.4% chance of actually having HIV even if we're diagnosed with HIV and a 85.6% chance of having being mis-diagnosed as HIV-positive, when we very well could be negative. "
      ]
    },
    {
      "cell_type": "markdown",
      "metadata": {
        "id": "zGUCqQVbULD_"
      },
      "source": [
        "Let's see some important metrics from the confusion matrix for this case"
      ]
    },
    {
      "cell_type": "code",
      "metadata": {
        "id": "-dsozgSx_BGY",
        "outputId": "0e06c0d4-dbd0-4a02-e165-75fc75096b9a",
        "colab": {
          "base_uri": "https://localhost:8080/",
          "height": 34
        }
      },
      "source": [
        "total_assumed = true_positive_hiv_group + false_positive_no_hiv_group + true_negative_no_hiv_group + false_negative_hiv_group\n",
        "print(total_assumed)"
      ],
      "execution_count": 10,
      "outputs": [
        {
          "output_type": "stream",
          "text": [
            "1000000.0\n"
          ],
          "name": "stdout"
        }
      ]
    },
    {
      "cell_type": "code",
      "metadata": {
        "id": "VAlsRVcaNrBJ",
        "outputId": "f6e6abc2-cea3-4f32-b690-812995bfbc1d",
        "colab": {
          "base_uri": "https://localhost:8080/",
          "height": 34
        }
      },
      "source": [
        "accuracy = (true_positive_hiv_group + true_negative_no_hiv_group) / total_assumed\n",
        "print(accuracy)"
      ],
      "execution_count": 11,
      "outputs": [
        {
          "output_type": "stream",
          "text": [
            "0.99\n"
          ],
          "name": "stdout"
        }
      ]
    },
    {
      "cell_type": "code",
      "metadata": {
        "id": "-ZkCkx6IOI9B",
        "outputId": "b8fbd014-5107-46eb-b6b9-f8e99c47ef34",
        "colab": {
          "base_uri": "https://localhost:8080/",
          "height": 34
        }
      },
      "source": [
        "# Recall or Sensitivity or True Positive Rate:\n",
        "# Percent of positive cases identified from actual total positive cases\n",
        "recall = true_positive_hiv_group / (true_positive_hiv_group + false_negative_hiv_group)\n",
        "recall = round(recall, 4)\n",
        "print(recall)"
      ],
      "execution_count": 12,
      "outputs": [
        {
          "output_type": "stream",
          "text": [
            "0.99\n"
          ],
          "name": "stdout"
        }
      ]
    },
    {
      "cell_type": "code",
      "metadata": {
        "id": "qUuKJufWP_9Z",
        "outputId": "59a2d00f-540b-4d08-9b24-c36d032887bc",
        "colab": {
          "base_uri": "https://localhost:8080/",
          "height": 34
        }
      },
      "source": [
        "# Precision or Positive-Predicted-Value:\n",
        "# Percent of cases identified as positive that are truly positive\n",
        "precision = true_positive_hiv_group / (true_positive_hiv_group + false_positive_no_hiv_group)\n",
        "precision = round(precision, 4)\n",
        "print(precision)"
      ],
      "execution_count": 13,
      "outputs": [
        {
          "output_type": "stream",
          "text": [
            "0.1443\n"
          ],
          "name": "stdout"
        }
      ]
    },
    {
      "cell_type": "code",
      "metadata": {
        "id": "QzlLsjfSSm-I",
        "outputId": "1d8392de-bffd-4e73-8e78-fd1849a5970b",
        "colab": {
          "base_uri": "https://localhost:8080/",
          "height": 34
        }
      },
      "source": [
        "# True-negative-rate: Aka Specificity,\n",
        "# Percent of negative cases identified from actual total negative cases.\n",
        "specificity = true_negative_no_hiv_group / (true_negative_no_hiv_group + false_positive_no_hiv_group)\n",
        "specificity = round(specificity, 4)\n",
        "print(specificity)"
      ],
      "execution_count": 14,
      "outputs": [
        {
          "output_type": "stream",
          "text": [
            "0.99\n"
          ],
          "name": "stdout"
        }
      ]
    },
    {
      "cell_type": "code",
      "metadata": {
        "id": "MnyRX1PnagAp",
        "outputId": "c26c43ba-f02e-4e97-db9c-1323eca0e124",
        "colab": {
          "base_uri": "https://localhost:8080/",
          "height": 34
        }
      },
      "source": [
        "# False-positive-rate: Aka Specificity,\n",
        "# Percent of total negative cases misclassified as positive.\n",
        "fpr = false_positive_no_hiv_group / (true_negative_no_hiv_group + false_positive_no_hiv_group)\n",
        "fpr = round(fpr, 4)\n",
        "print(fpr)"
      ],
      "execution_count": 16,
      "outputs": [
        {
          "output_type": "stream",
          "text": [
            "0.01\n"
          ],
          "name": "stdout"
        }
      ]
    },
    {
      "cell_type": "markdown",
      "metadata": {
        "id": "Oz8Rwe-GTeqn"
      },
      "source": [
        "As we can see the test does a good job of catching 99% of infections (sensitivity) and where there are no infections, it catches 99% of no infections (specificity). But it does a poor job on Precision. Meaning of the percent of cases identified as positive, it includes 9983 non-positive cases as positive. And this is the crux of the matter in this post."
      ]
    },
    {
      "cell_type": "markdown",
      "metadata": {
        "id": "RLjmdUK_U1uh"
      },
      "source": [
        "Let's see the overall weighted harmonic mean of the performance of the Test"
      ]
    },
    {
      "cell_type": "code",
      "metadata": {
        "id": "NhtHhspQUFTb",
        "outputId": "09bb0d78-0b7c-4ce9-d973-2c758d7f0812",
        "colab": {
          "base_uri": "https://localhost:8080/",
          "height": 34
        }
      },
      "source": [
        "# Lets see the F1-score\n",
        "f1_score  = 2 * ((precision * recall) / (precision + recall))\n",
        "f1_score = round(f1_score, 4)\n",
        "print(f1_score)"
      ],
      "execution_count": 15,
      "outputs": [
        {
          "output_type": "stream",
          "text": [
            "0.2519\n"
          ],
          "name": "stdout"
        }
      ]
    },
    {
      "cell_type": "markdown",
      "metadata": {
        "id": "tXtllMWpVeV7"
      },
      "source": [
        "So we see that although the test is 99% accurate and has a TPR and TNR of 99%, it's quite terrible over all, with f1_score of only 25% "
      ]
    },
    {
      "cell_type": "markdown",
      "metadata": {
        "id": "9BuqETBgYMq9"
      },
      "source": [
        "<h2>To Recap:</h2>\n",
        "\n",
        "<h2>$Bayes-Theory = P(A|B) = \\frac{P(B|A) * P(A)} {P(B)}$</h2>\n",
        "\n",
        "1. $P(A|B)$: Trying to find the Probability of HIV($A$) given a positive test result($B$) is called the Posterior. This is what we want to compute given the evidence\n",
        "2. $P(B|A)$: The existing conditional probability of being positive given HIV is called the likelihood. this is the likelihood of a positive diagnosis given HIV. \n",
        "3. $P(A)$: The probability of HIV is the Prior, this is the additional evidence we found after knowing that the test has 99% accuracy.\n",
        "4. $P(B)$: The Probability of Positive is the marginal likelihood, simply put, it's the total probability of being positive to HIV given HIV times probability of HIV plus its complement, which is the probability of being positive to HIV given no HIV  times the probability of no HIV."
      ]
    },
    {
      "cell_type": "code",
      "metadata": {
        "id": "0YCyXJI0VtYx"
      },
      "source": [
        ""
      ],
      "execution_count": 15,
      "outputs": []
    }
  ]
}