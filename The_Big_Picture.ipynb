{
  "nbformat": 4,
  "nbformat_minor": 0,
  "metadata": {
    "colab": {
      "name": "The Big Picture.ipynb",
      "version": "0.3.2",
      "provenance": [],
      "collapsed_sections": [],
      "include_colab_link": true
    },
    "kernelspec": {
      "display_name": "Python 3",
      "language": "python",
      "name": "python3"
    }
  },
  "cells": [
    {
      "cell_type": "markdown",
      "metadata": {
        "id": "view-in-github",
        "colab_type": "text"
      },
      "source": [
        "<a href=\"https://colab.research.google.com/github/Blackman9t/Probability-and-Statistics/blob/master/The_Big_Picture.ipynb\" target=\"_parent\"><img src=\"https://colab.research.google.com/assets/colab-badge.svg\" alt=\"Open In Colab\"/></a>"
      ]
    },
    {
      "cell_type": "markdown",
      "metadata": {
        "id": "S2uHZdbgcalB",
        "colab_type": "text"
      },
      "source": [
        "# The Big Picture.  \n",
        "**_In a nutshell, what statistics is all about is converting data into useful information._**  \n",
        "**_Statistics is therefore a process in which we_**  \n",
        "\n",
        "\n",
        "**_Collect data,_**  \n",
        "**_Summarize data, and_**  \n",
        "**_Interpret data._**  \n",
        "\n",
        "\n",
        "<h3>Step One: Producing Data-</h3>  \n",
        "This is the first step, which involves <b>choosing a sample and collecting data from it</b>. \n",
        "\n",
        "\n",
        "<h3>Step Two: Exploratory Data Analysis-</h3>\n",
        "in order to explore and make sense of the data, we need to summarize it in a meaningful way.<b>EDA is This second step, which consists of summarizing the collected data.</b>\n",
        "\n",
        "\n",
        "<h3>Step Three: Probability-</h3>\n",
        "We need to be able to draw conclusions about the population based on the results of the sample data.\n",
        "<b>Probability is the machinery</b> that allows us to draw conclusions about the population based on the data collected about the sample.\n",
        "\n",
        "\n",
        "<h3>Step Four: The Inference-</h3>\n",
        "Finally we can use what we've discovered about our sample to draw conclusions about our population. We call this final step in the process <b>The Inference</b>"
      ]
    },
    {
      "cell_type": "markdown",
      "metadata": {
        "id": "QCynMzUgcalC",
        "colab_type": "text"
      },
      "source": [
        "##  Population:  \n",
        "**The process of statistics starts when we identify what group we want to study or learn something about**  \n",
        "**This group is called the population**"
      ]
    },
    {
      "cell_type": "markdown",
      "metadata": {
        "id": "P9rINamCcalD",
        "colab_type": "text"
      },
      "source": [
        "## Probability:  \n",
        "**In essence, probability is the \"machinery\" that allows us to draw conclusions**  \n",
        "**About the population based on the data collected about the sample.**"
      ]
    },
    {
      "cell_type": "markdown",
      "metadata": {
        "id": "-OJ3-MV9calE",
        "colab_type": "text"
      },
      "source": [
        "## Inference:  \n",
        "**Finally, we can use what we've discovered about our sample to draw conclusions about our population.**  \n",
        "**We call this final step in the process inference.**"
      ]
    },
    {
      "cell_type": "code",
      "metadata": {
        "id": "x1gZRnvucalF",
        "colab_type": "code",
        "colab": {}
      },
      "source": [
        ""
      ],
      "execution_count": 0,
      "outputs": []
    },
    {
      "cell_type": "markdown",
      "metadata": {
        "id": "jk6_R62DcalI",
        "colab_type": "text"
      },
      "source": [
        "# Scales of Measurement / Types of Variable  \n",
        "**Variables could be classified as quantitative or categorical variables.**  \n",
        "**However a much more precise method for classifying variables is called the Scale of Preference.**\n",
        "### **The four different scales of measurement, from least to most precise, are**"
      ]
    },
    {
      "cell_type": "markdown",
      "metadata": {
        "id": "Wk0Bj1GAcalJ",
        "colab_type": "text"
      },
      "source": [
        "* __*Nominal*__  \n",
        "* __*Ordinal*__  \n",
        "* __*Interval*__  \n",
        "* __*Ratio*__  \n",
        "\n",
        "\n",
        "<h3>Note:</h3>\n",
        "<b>The scales of measurement become increasingly precise with each level, while maintaining characteristics of previous levels.</b>\n",
        "\n",
        "<h4><u>Nominal level:</u></h4>  \n",
        "This is the least precise measure of data as it only indicates differences. Nominal level data uses discrete categories to describe qualitative differences. Example- Types of pets such as dogs, cats, birds etc. None of these categories of pets is implicitly better than the other, instead the categories just refers to their differences.\n",
        "\n",
        "<h4><u>Ordinal level:</u></h4>  \n",
        "Ordinal level data is more precise than norminal data as the differences can now be rank ordered. However it does not indicate that the differences between two are fixed or equal. An example is the order of wins in a race. We can say Joe finished first and James second, and Pete third, but we can't tell if it was 2 seconds interval or 2 minutes. Other examples could be education level and some survey question responses.\n",
        "\n",
        "<h4><u>Interval level:</u></h4> \n",
        "This builds upon the characteristics of the Ordinal level data, through the addition of meaningful differences between two numbers... That is the distance between pairs of consecutive numbers is assumed to be equal. However intervals do not have a meaningful zero point. As zero does not mean an absence of an attribute, but rather it's a particular point on the scale. For example temperature could very well have zero degrees or below zero degrees. Other examples include IQ scores and SAT scores.\n",
        "\n",
        "<h4><u>Ratio level:</u></h4>\n",
        "The fourth and final level of measurement is ratio. It has all the characteristics of interval, plus a meaningful zero point.\n",
        "A good example is age as there can be meaningful zero age and yet a man of 40 is twice as old as a man of 20 years. Others include height, weight, bank balance, cost of a car in naira... For each of these variables, the distance between pairs of consecutive numbers is thought to be equal and yet they all have a meaningful zero point.\n",
        "\n",
        "\n",
        "<h4><u>Important Notice:</u></h4>\n",
        "More precise data can always be scaled down to less precise data, for example ratio level data like age can be scaled down to less precise ordinal data like age-groups... But less precise data however, cannot be scalable to more precise data.\n",
        "\n",
        "\n",
        "<h3><u>So why is it important to understand The Scale of Measurement?:</u></h3>\n",
        "Statistical methods are ways of summarizing, analyzing and interpreting data, and are designed for specific types of data.\n",
        "Researchers need to know the level of measurement of their data when selecting a statistical method. Since using an incorrect method for analyzing data can affect the reliability and accuracy of the results. Be sure to remember these levels of measurements whenever we do EDA."
      ]
    },
    {
      "cell_type": "markdown",
      "metadata": {
        "id": "0TuSHPuucalK",
        "colab_type": "text"
      },
      "source": [
        "<h2>Data and Variables</h2>\n",
        "\n",
        "**Data are pieces of information about individuals organised into variables.**  \n",
        "**By an individual, we mean a particular person or object.**  \n",
        "**By a variable, we mean a particular characteristic of the individual**  \n",
        "\n",
        "**A Data set is a set of data, identified with particular circumstances.**  \n",
        "**Data sets are typically displayed in tables in which rows represent individuals and columns variables.**  \n",
        "\n",
        "\n",
        "<h3>Distribution of The Variable</h3>  \n",
        "The data for each variable are a long list of values(whether numerical or not), and are not very informative in that form.\n",
        "Inorder to convert these raw data into useful information, we need to summarize and examine the distribution of the variable.\n",
        "\n",
        "<h4>By distribution of a variable, we mean<h4>:\n",
        "    1. What values the variable takes, \n",
        "    2. How often the variable takes those values."
      ]
    },
    {
      "cell_type": "code",
      "metadata": {
        "id": "mJcS0mzNcalL",
        "colab_type": "code",
        "colab": {}
      },
      "source": [
        ""
      ],
      "execution_count": 0,
      "outputs": []
    },
    {
      "cell_type": "markdown",
      "metadata": {
        "id": "EqWa6JC3calN",
        "colab_type": "text"
      },
      "source": [
        "### Frequency Distributions:  \n",
        "**Learning Objective: Summarize and describe the distribution of a categorical variable in context.**"
      ]
    },
    {
      "cell_type": "code",
      "metadata": {
        "id": "y76KRSZUcalO",
        "colab_type": "code",
        "colab": {}
      },
      "source": [
        "import pandas as pd\n",
        "import numpy as np\n",
        "import matplotlib.pyplot as plt\n",
        "import seaborn as sns"
      ],
      "execution_count": 0,
      "outputs": []
    },
    {
      "cell_type": "code",
      "metadata": {
        "id": "Jvm3aEM3calR",
        "colab_type": "code",
        "colab": {}
      },
      "source": [
        "category = {'Category':['about-right', 'over-weight','under-weight'],\\\n",
        "           'Count':[855, 235, 110], 'Percent':[0, 0, 0]}"
      ],
      "execution_count": 0,
      "outputs": []
    },
    {
      "cell_type": "code",
      "metadata": {
        "id": "766O5A2gcalT",
        "colab_type": "code",
        "outputId": "6459809b-880a-42a8-980b-7536dad5ab2f",
        "colab": {}
      },
      "source": [
        "body_image_DF = pd.DataFrame(category)\n",
        "body_image_DF"
      ],
      "execution_count": 0,
      "outputs": [
        {
          "output_type": "execute_result",
          "data": {
            "text/html": [
              "<div>\n",
              "<style scoped>\n",
              "    .dataframe tbody tr th:only-of-type {\n",
              "        vertical-align: middle;\n",
              "    }\n",
              "\n",
              "    .dataframe tbody tr th {\n",
              "        vertical-align: top;\n",
              "    }\n",
              "\n",
              "    .dataframe thead th {\n",
              "        text-align: right;\n",
              "    }\n",
              "</style>\n",
              "<table border=\"1\" class=\"dataframe\">\n",
              "  <thead>\n",
              "    <tr style=\"text-align: right;\">\n",
              "      <th></th>\n",
              "      <th>Category</th>\n",
              "      <th>Count</th>\n",
              "      <th>Percent</th>\n",
              "    </tr>\n",
              "  </thead>\n",
              "  <tbody>\n",
              "    <tr>\n",
              "      <th>0</th>\n",
              "      <td>about-right</td>\n",
              "      <td>855</td>\n",
              "      <td>0</td>\n",
              "    </tr>\n",
              "    <tr>\n",
              "      <th>1</th>\n",
              "      <td>over-weight</td>\n",
              "      <td>235</td>\n",
              "      <td>0</td>\n",
              "    </tr>\n",
              "    <tr>\n",
              "      <th>2</th>\n",
              "      <td>under-weight</td>\n",
              "      <td>110</td>\n",
              "      <td>0</td>\n",
              "    </tr>\n",
              "  </tbody>\n",
              "</table>\n",
              "</div>"
            ],
            "text/plain": [
              "       Category  Count  Percent\n",
              "0   about-right    855        0\n",
              "1   over-weight    235        0\n",
              "2  under-weight    110        0"
            ]
          },
          "metadata": {
            "tags": []
          },
          "execution_count": 4
        }
      ]
    },
    {
      "cell_type": "code",
      "metadata": {
        "id": "p4HidDdjcalY",
        "colab_type": "code",
        "outputId": "51295bfd-d970-4afa-faa3-a009fb0545ad",
        "colab": {}
      },
      "source": [
        "total = body_image_DF['Count'].sum()\n",
        "total"
      ],
      "execution_count": 0,
      "outputs": [
        {
          "output_type": "execute_result",
          "data": {
            "text/plain": [
              "1200"
            ]
          },
          "metadata": {
            "tags": []
          },
          "execution_count": 5
        }
      ]
    },
    {
      "cell_type": "code",
      "metadata": {
        "id": "rlDEvHNDcalb",
        "colab_type": "code",
        "outputId": "38a1655e-2c7d-4b8e-db84-9427ff7891b5",
        "colab": {}
      },
      "source": [
        "# firslt let's divide the count by total and multiply by 100 to get each percent\n",
        "body_image_DF['Percent'] = (body_image_DF['Count']/total) * 100\n",
        "\n",
        "# Next let's round the result in the percent column to 2 D.P\n",
        "body_image_DF['Percent'] = np.round(body_image_DF['Percent'],2)\n",
        "\n",
        "# Let's display to view our results\n",
        "body_image_DF"
      ],
      "execution_count": 0,
      "outputs": [
        {
          "output_type": "execute_result",
          "data": {
            "text/html": [
              "<div>\n",
              "<style scoped>\n",
              "    .dataframe tbody tr th:only-of-type {\n",
              "        vertical-align: middle;\n",
              "    }\n",
              "\n",
              "    .dataframe tbody tr th {\n",
              "        vertical-align: top;\n",
              "    }\n",
              "\n",
              "    .dataframe thead th {\n",
              "        text-align: right;\n",
              "    }\n",
              "</style>\n",
              "<table border=\"1\" class=\"dataframe\">\n",
              "  <thead>\n",
              "    <tr style=\"text-align: right;\">\n",
              "      <th></th>\n",
              "      <th>Category</th>\n",
              "      <th>Count</th>\n",
              "      <th>Percent</th>\n",
              "    </tr>\n",
              "  </thead>\n",
              "  <tbody>\n",
              "    <tr>\n",
              "      <th>0</th>\n",
              "      <td>about-right</td>\n",
              "      <td>855</td>\n",
              "      <td>71.25</td>\n",
              "    </tr>\n",
              "    <tr>\n",
              "      <th>1</th>\n",
              "      <td>over-weight</td>\n",
              "      <td>235</td>\n",
              "      <td>19.58</td>\n",
              "    </tr>\n",
              "    <tr>\n",
              "      <th>2</th>\n",
              "      <td>under-weight</td>\n",
              "      <td>110</td>\n",
              "      <td>9.17</td>\n",
              "    </tr>\n",
              "  </tbody>\n",
              "</table>\n",
              "</div>"
            ],
            "text/plain": [
              "       Category  Count  Percent\n",
              "0   about-right    855    71.25\n",
              "1   over-weight    235    19.58\n",
              "2  under-weight    110     9.17"
            ]
          },
          "metadata": {
            "tags": []
          },
          "execution_count": 6
        }
      ]
    },
    {
      "cell_type": "markdown",
      "metadata": {
        "id": "u_2J6sQacale",
        "colab_type": "text"
      },
      "source": [
        "#### Let's set up a Bar chart just like in the Stats tutorial"
      ]
    },
    {
      "cell_type": "code",
      "metadata": {
        "id": "zCyX6UWdcalf",
        "colab_type": "code",
        "outputId": "6c3e6a77-bd7a-42cf-85bd-d14888033999",
        "colab": {}
      },
      "source": [
        "plt.figure(figsize=(12,8))\n",
        "x = body_image_DF['Category']\n",
        "y = body_image_DF['Count']\n",
        "plt.title('Bar Chart for Body Image')\n",
        "plt.xlabel('Body Image')\n",
        "plt.ylabel('Count')\n",
        "sns.barplot(x,y)\n",
        "plt.show()"
      ],
      "execution_count": 0,
      "outputs": [
        {
          "output_type": "display_data",
          "data": {
            "image/png": "[encoded data removed]",
            "text/plain": [
              "<Figure size 864x576 with 1 Axes>"
            ]
          },
          "metadata": {
            "tags": [],
            "needs_background": "light"
          }
        }
      ]
    },
    {
      "cell_type": "markdown",
      "metadata": {
        "id": "vMkzAe-6calj",
        "colab_type": "text"
      },
      "source": [
        "#### Next let's set up a pie chart"
      ]
    },
    {
      "cell_type": "code",
      "metadata": {
        "id": "JqOzK_6Ncall",
        "colab_type": "code",
        "outputId": "af98a819-7c26-467e-f7f9-943583328ba5",
        "colab": {}
      },
      "source": [
        "# First we set the size\n",
        "plt.figure(figsize=(12,8))\n",
        "\n",
        "# Next we set the labels\n",
        "labels = body_image_DF['Category']\n",
        "\n",
        "# Then we pass the corresponding sizes\n",
        "sizes = body_image_DF['Percent']\n",
        "\n",
        "# Then we set the explode on the specific slice we want to explode and the rate of the explode\n",
        "# this means don't explode the first two slices only the last one\n",
        "explode=[0,0,0.3]\n",
        "\n",
        "# Then the title...\n",
        "plt.title('Pie Chart for Body Image')\n",
        "\n",
        "# Equal aspect ratio ensures that pie is drawn as a circle.\n",
        "plt.axis('equal')\n",
        "\n",
        "# Then the pie chart specific customized details\n",
        "plt.pie(sizes, labels=labels, shadow=True, startangle=185, autopct='%1.1f%%', explode=explode)\n",
        "\n",
        "# Finally the show\n",
        "plt.show()"
      ],
      "execution_count": 0,
      "outputs": [
        {
          "output_type": "display_data",
          "data": {
            "image/png": "[encoded data removed]",
            "text/plain": [
              "<Figure size 864x576 with 1 Axes>"
            ]
          },
          "metadata": {
            "tags": []
          }
        }
      ]
    },
    {
      "cell_type": "markdown",
      "metadata": {
        "id": "OMLNcAUicalr",
        "colab_type": "text"
      },
      "source": [
        "### Some summary for Categorical variables  \n",
        "**The distribution of a categorical variable is summarised using:**  \n",
        "* **Graphical Display:** Pie chart or Bar chart supplemented by:-  \n",
        "* **Numerical Summaries:** Categories, counts and percentages.  \n",
        "\n",
        "_**A variation of the pie chart and bar chart is called a pictogram. Pictograms can be misleading so make sure to use a critical approach while interpreting the info from a pictogram**_"
      ]
    },
    {
      "cell_type": "code",
      "metadata": {
        "id": "CaOs9gp_cals",
        "colab_type": "code",
        "colab": {}
      },
      "source": [
        "# Run this code to terminate the kernel and free memory resources:\n",
        "\n",
        "import os, signal\n",
        "os.kill(os.getpid(), signal.SIGKILL)"
      ],
      "execution_count": 0,
      "outputs": []
    }
  ]
}