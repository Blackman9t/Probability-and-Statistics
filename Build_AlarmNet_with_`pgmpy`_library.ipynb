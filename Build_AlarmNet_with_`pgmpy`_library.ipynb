{
  "nbformat": 4,
  "nbformat_minor": 0,
  "metadata": {
    "kernelspec": {
      "display_name": "Python 3",
      "language": "python",
      "name": "python3"
    },
    "language_info": {
      "codemirror_mode": {
        "name": "ipython",
        "version": 3
      },
      "file_extension": ".py",
      "mimetype": "text/x-python",
      "name": "python",
      "nbconvert_exporter": "python",
      "pygments_lexer": "ipython3",
      "version": "3.6.3"
    },
    "toc": {
      "base_numbering": 1,
      "nav_menu": {},
      "number_sections": true,
      "sideBar": true,
      "skip_h1_title": false,
      "title_cell": "Table of Contents",
      "title_sidebar": "Contents",
      "toc_cell": true,
      "toc_position": {
        "height": "calc(100% - 180px)",
        "left": "10px",
        "top": "150px",
        "width": "258.797px"
      },
      "toc_section_display": true,
      "toc_window_display": true
    },
    "colab": {
      "name": "Build AlarmNet with `pgmpy` library.ipynb",
      "provenance": [],
      "include_colab_link": true
    }
  },
  "cells": [
    {
      "cell_type": "markdown",
      "metadata": {
        "id": "view-in-github",
        "colab_type": "text"
      },
      "source": [
        "<a href=\"https://colab.research.google.com/github/Lawrence-Krukrubo/Probability-and-Statistics/blob/master/Build_AlarmNet_with_%60pgmpy%60_library.ipynb\" target=\"_parent\"><img src=\"https://colab.research.google.com/assets/colab-badge.svg\" alt=\"Open In Colab\"/></a>"
      ]
    },
    {
      "cell_type": "markdown",
      "metadata": {
        "toc": true,
        "id": "KhF5OpSkHAm7"
      },
      "source": [
        "<h1>Table of Contents<span class=\"tocSkip\"></span></h1>\n",
        "<div class=\"toc\"><ul class=\"toc-item\"><li><span><a href=\"#Intro-to-pgmpy-library\" data-toc-modified-id=\"Intro-to-pgmpy-library-1\"><span class=\"toc-item-num\">1&nbsp;&nbsp;</span>Intro to <code>pgmpy</code> library</a></span></li><li><span><a href=\"#Alarm-Bayes-Network-Schema\" data-toc-modified-id=\"Alarm-Bayes-Network-Schema-2\"><span class=\"toc-item-num\">2&nbsp;&nbsp;</span>Alarm Bayes Network Schema</a></span></li><li><span><a href=\"#Set-up-alarm-Bayes-Nets-using-pgmpy-library\" data-toc-modified-id=\"Set-up-alarm-Bayes-Nets-using-pgmpy-library-3\"><span class=\"toc-item-num\">3&nbsp;&nbsp;</span>Set up alarm Bayes Nets using <code>pgmpy</code> library</a></span></li><li><span><a href=\"#Provide-conditional-probability-distributions-from-the-network\" data-toc-modified-id=\"Provide-conditional-probability-distributions-from-the-network-4\"><span class=\"toc-item-num\">4&nbsp;&nbsp;</span>Provide conditional probability distributions from the network</a></span></li><li><span><a href=\"#Check-Bayes-Nets-model-and-probability-distributions\" data-toc-modified-id=\"Check-Bayes-Nets-model-and-probability-distributions-5\"><span class=\"toc-item-num\">5&nbsp;&nbsp;</span>Check Bayes Nets model and probability distributions</a></span></li><li><span><a href=\"#Make-the-inferences-using-VariableElimination-function\" data-toc-modified-id=\"Make-the-inferences-using-VariableElimination-function-6\"><span class=\"toc-item-num\">6&nbsp;&nbsp;</span>Make the inferences using <code>VariableElimination</code> function</a></span></li><li><span><a href=\"#Notes\" data-toc-modified-id=\"Notes-7\"><span class=\"toc-item-num\">7&nbsp;&nbsp;</span>Notes</a></span></li></ul></div>"
      ]
    },
    {
      "cell_type": "markdown",
      "metadata": {
        "id": "_JPrNocvHAm9"
      },
      "source": [
        "### Intro to `pgmpy` library\n",
        "\n",
        "[pgmpy](http://pgmpy.org/) is a python library for working with Probabilistic Graphical Models. This library enables users to build probabilistic graphical models and use its built-in functions to make inferences using algorithms, such as Bayes Network and Markov Network. Please refer to [this paper](https://conference.scipy.org/proceedings/scipy2015/pdfs/ankur_ankan.pdf) for a quick intro to pgmpy library."
      ]
    },
    {
      "cell_type": "code",
      "metadata": {
        "id": "sHACE2rJHAm-",
        "outputId": "d80e1c0b-e077-463b-faaa-a062ea764357",
        "colab": {
          "base_uri": "https://localhost:8080/",
          "height": 374
        }
      },
      "source": [
        "# install pgmpy library\n",
        "!pip install pgmpy"
      ],
      "execution_count": 1,
      "outputs": [
        {
          "output_type": "stream",
          "text": [
            "Collecting pgmpy\n",
            "\u001b[?25l  Downloading https://files.pythonhosted.org/packages/22/16/e2edff21fca7a2cacaedd293caaaae5eaea832af0dd347c1159b4455be6b/pgmpy-0.1.12-py3-none-any.whl (322kB)\n",
            "\r\u001b[K     |█                               | 10kB 13.1MB/s eta 0:00:01\r\u001b[K     |██                              | 20kB 2.8MB/s eta 0:00:01\r\u001b[K     |███                             | 30kB 3.8MB/s eta 0:00:01\r\u001b[K     |████                            | 40kB 4.0MB/s eta 0:00:01\r\u001b[K     |█████                           | 51kB 3.1MB/s eta 0:00:01\r\u001b[K     |██████                          | 61kB 3.7MB/s eta 0:00:01\r\u001b[K     |███████                         | 71kB 3.9MB/s eta 0:00:01\r\u001b[K     |████████▏                       | 81kB 4.3MB/s eta 0:00:01\r\u001b[K     |█████████▏                      | 92kB 4.7MB/s eta 0:00:01\r\u001b[K     |██████████▏                     | 102kB 4.5MB/s eta 0:00:01\r\u001b[K     |███████████▏                    | 112kB 4.5MB/s eta 0:00:01\r\u001b[K     |████████████▏                   | 122kB 4.5MB/s eta 0:00:01\r\u001b[K     |█████████████▏                  | 133kB 4.5MB/s eta 0:00:01\r\u001b[K     |██████████████▏                 | 143kB 4.5MB/s eta 0:00:01\r\u001b[K     |███████████████▏                | 153kB 4.5MB/s eta 0:00:01\r\u001b[K     |████████████████▎               | 163kB 4.5MB/s eta 0:00:01\r\u001b[K     |█████████████████▎              | 174kB 4.5MB/s eta 0:00:01\r\u001b[K     |██████████████████▎             | 184kB 4.5MB/s eta 0:00:01\r\u001b[K     |███████████████████▎            | 194kB 4.5MB/s eta 0:00:01\r\u001b[K     |████████████████████▎           | 204kB 4.5MB/s eta 0:00:01\r\u001b[K     |█████████████████████▎          | 215kB 4.5MB/s eta 0:00:01\r\u001b[K     |██████████████████████▎         | 225kB 4.5MB/s eta 0:00:01\r\u001b[K     |███████████████████████▍        | 235kB 4.5MB/s eta 0:00:01\r\u001b[K     |████████████████████████▍       | 245kB 4.5MB/s eta 0:00:01\r\u001b[K     |█████████████████████████▍      | 256kB 4.5MB/s eta 0:00:01\r\u001b[K     |██████████████████████████▍     | 266kB 4.5MB/s eta 0:00:01\r\u001b[K     |███████████████████████████▍    | 276kB 4.5MB/s eta 0:00:01\r\u001b[K     |████████████████████████████▍   | 286kB 4.5MB/s eta 0:00:01\r\u001b[K     |█████████████████████████████▍  | 296kB 4.5MB/s eta 0:00:01\r\u001b[K     |██████████████████████████████▍ | 307kB 4.5MB/s eta 0:00:01\r\u001b[K     |███████████████████████████████▌| 317kB 4.5MB/s eta 0:00:01\r\u001b[K     |████████████████████████████████| 327kB 4.5MB/s \n",
            "\u001b[?25hRequirement already satisfied: numpy in /usr/local/lib/python3.6/dist-packages (from pgmpy) (1.18.5)\n",
            "Requirement already satisfied: torch in /usr/local/lib/python3.6/dist-packages (from pgmpy) (1.6.0+cu101)\n",
            "Requirement already satisfied: tqdm in /usr/local/lib/python3.6/dist-packages (from pgmpy) (4.41.1)\n",
            "Requirement already satisfied: scipy in /usr/local/lib/python3.6/dist-packages (from pgmpy) (1.4.1)\n",
            "Requirement already satisfied: scikit-learn in /usr/local/lib/python3.6/dist-packages (from pgmpy) (0.22.2.post1)\n",
            "Requirement already satisfied: pandas in /usr/local/lib/python3.6/dist-packages (from pgmpy) (1.1.2)\n",
            "Requirement already satisfied: pyparsing in /usr/local/lib/python3.6/dist-packages (from pgmpy) (2.4.7)\n",
            "Requirement already satisfied: statsmodels in /usr/local/lib/python3.6/dist-packages (from pgmpy) (0.10.2)\n",
            "Requirement already satisfied: joblib in /usr/local/lib/python3.6/dist-packages (from pgmpy) (0.16.0)\n",
            "Requirement already satisfied: networkx in /usr/local/lib/python3.6/dist-packages (from pgmpy) (2.5)\n",
            "Requirement already satisfied: future in /usr/local/lib/python3.6/dist-packages (from torch->pgmpy) (0.16.0)\n",
            "Requirement already satisfied: python-dateutil>=2.7.3 in /usr/local/lib/python3.6/dist-packages (from pandas->pgmpy) (2.8.1)\n",
            "Requirement already satisfied: pytz>=2017.2 in /usr/local/lib/python3.6/dist-packages (from pandas->pgmpy) (2018.9)\n",
            "Requirement already satisfied: patsy>=0.4.0 in /usr/local/lib/python3.6/dist-packages (from statsmodels->pgmpy) (0.5.1)\n",
            "Requirement already satisfied: decorator>=4.3.0 in /usr/local/lib/python3.6/dist-packages (from networkx->pgmpy) (4.4.2)\n",
            "Requirement already satisfied: six>=1.5 in /usr/local/lib/python3.6/dist-packages (from python-dateutil>=2.7.3->pandas->pgmpy) (1.15.0)\n",
            "Installing collected packages: pgmpy\n",
            "Successfully installed pgmpy-0.1.12\n"
          ],
          "name": "stdout"
        }
      ]
    },
    {
      "cell_type": "code",
      "metadata": {
        "id": "F4DLDBzCHAnE"
      },
      "source": [
        "# import modules\n",
        "from pgmpy.models import BayesianModel\n",
        "from pgmpy.factors.discrete import TabularCPD\n",
        "from pgmpy.inference import VariableElimination"
      ],
      "execution_count": 2,
      "outputs": []
    },
    {
      "cell_type": "markdown",
      "metadata": {
        "id": "EVbbbDbPHAnJ"
      },
      "source": [
        "### Alarm Bayes Network Schema\n",
        "\n",
        "<img src=\"https://github.com/Lawrence-Krukrubo/Probability-and-Statistics/blob/master/images/network.png?raw=true\" width=800 height=600 />"
      ]
    },
    {
      "cell_type": "markdown",
      "metadata": {
        "id": "aHJrs2bPHAnK"
      },
      "source": [
        "### Set up alarm Bayes Nets using `pgmpy` library\n",
        "\n",
        "Once we imported the file, we can instantiate a `BayesianModel` to build our model as shown in the figure above.\n",
        "\n",
        "    `AlarmNet = BayesianModel()`\n",
        "\n",
        "Now we can add the nodes using `add_node(name)` into the model. As shown in the figure above, we will add five nodes as follows: `Burglary`, `Earthquake`, `Alarm`, `John calls`, and `Mary calls`.\n",
        "\n",
        "    `AlarmNet.add_node(\"Burglary\")`\n",
        "\n",
        "Next we can connect the nodes using `add_edge()` where the nodes are connected in the graph. This function takes 2 inputs, ie. parent node and child node.\n",
        "    \n",
        "    `AlarmNet.add_edge(\"temperature\",\"alarm\")`"
      ]
    },
    {
      "cell_type": "code",
      "metadata": {
        "id": "OitCteYTHAnK"
      },
      "source": [
        "# Instantiate PGMPY's Bayesian Model\n",
        "AlarmNet = BayesianModel()\n",
        "\n",
        "# Add the nodes\n",
        "AlarmNet.add_node(\"Burglary\")\n",
        "AlarmNet.add_node(\"Earthquake\")\n",
        "AlarmNet.add_node(\"Alarm\")\n",
        "AlarmNet.add_node(\"John calls\")\n",
        "AlarmNet.add_node(\"Mary calls\")\n",
        "\n",
        "# Connect the nodes\n",
        "AlarmNet.add_edge(\"Burglary\", \"Alarm\")\n",
        "AlarmNet.add_edge(\"Earthquake\", \"Alarm\")\n",
        "AlarmNet.add_edge(\"Alarm\", \"John calls\")\n",
        "AlarmNet.add_edge(\"Alarm\", \"Mary calls\")"
      ],
      "execution_count": 3,
      "outputs": []
    },
    {
      "cell_type": "markdown",
      "metadata": {
        "id": "tPAp5W4rHAnO"
      },
      "source": [
        "### Provide conditional probability distributions from the network\n",
        "\n",
        "Now that the graph has been set up, we can add the probability distributions by using PGMPY's `TabularCPD` function.\n",
        "\n",
        "This function takes the following inputs:\n",
        "- `variable`: the name of the node\n",
        "- `variable_card`: the number of elements in the probability distribution. 2 for a binary node, ie. `True` or `False`.\n",
        "- `values`: the probability distributions.\n",
        "- `evidences`: the parents of the node.\n",
        "- `evidence_card`: the dimensions of the probability distribution according to the number of parent nodes.\n",
        "\n",
        "For node 'Burglary' with two possible values, where P(+B)=0.999 and P(¬B)=0.001, we can set the probability with the following command:\n",
        "\n",
        "    cpd_burglary = TabularCPD('Burglary', 2, \n",
        "                               values=[[0.001], [0.999]])\n",
        "\n",
        "For this conditional probability distribution of P(John calls|Alarm):\n",
        "\n",
        "|  Burglary  |P(JohnCalls=true given Burglary)|\n",
        "| ------ | ----- |\n",
        "|  T   | 0.9|\n",
        "|  F   | 0.05| \n",
        "\n",
        "the command is:\n",
        "\n",
        "    cpd_js = TabularCPD('John calls', 2, \n",
        "                        values=[[0.95, 0.1], [ 0.05, 0.9]], \n",
        "                        evidence=['Alarm'], evidence_card=[2])\n",
        "\n",
        "Finally, in a 3-nodes relationship where P(Alarm|Burglary, Earthquake):\n",
        "\n",
        "| Burglary   |  Earthquake  |P(Alarm=true given Burglary and Earthquake)|\n",
        "| --- | --- |:----:|\n",
        "|T|T|0.95|\n",
        "|T|F|0.94|\n",
        "|F|T|0.29|\n",
        "|F|F|0.001|\n",
        "\n",
        "the command is:\n",
        "\n",
        "    cpd_abc = TabularCPD('A', 2, \n",
        "                         values=[[0.999, 0.71, 0.06, 0.05], [0.001, 0.29, 0.94, 0.95]], \n",
        "                         evidence=['G', 'T'], evidence_card=[2, 2])\n"
      ]
    },
    {
      "cell_type": "code",
      "metadata": {
        "id": "AEt8rIWcHAnP"
      },
      "source": [
        "cpd_burglary = TabularCPD(variable='Burglary', \n",
        "                          variable_card=2,\n",
        "                          values=[[.999], [0.001]])\n",
        "\n",
        "cpd_earthquake = TabularCPD(variable='Earthquake', \n",
        "                            variable_card=2,\n",
        "                            values=[[0.998], [0.002]])\n",
        "\n",
        "cpd_alarm = TabularCPD(variable='Alarm', \n",
        "                       variable_card=2,\n",
        "                       values=[[0.999, 0.71, 0.06, 0.05],\n",
        "                               [0.001, 0.29, 0.94, 0.95]],\n",
        "                       evidence=['Burglary', 'Earthquake'],\n",
        "                       evidence_card=[2, 2])\n",
        "\n",
        "cpd_johncalls = TabularCPD(variable='John calls', \n",
        "                           variable_card=2,\n",
        "                           values=[[0.95, 0.1],\n",
        "                                   [0.05, 0.9]],\n",
        "                           evidence=['Alarm'], \n",
        "                           evidence_card=[2])\n",
        "\n",
        "cpd_marycalls = TabularCPD(variable='Mary calls', \n",
        "                           variable_card=2,\n",
        "                           values=[[0.1, 0.7], \n",
        "                                   [0.9, 0.3]],\n",
        "                           evidence=['Alarm'], \n",
        "                           evidence_card=[2])\n",
        "\n",
        "# Associate CPDs with the model structure\n",
        "AlarmNet.add_cpds(cpd_burglary, \n",
        "                     cpd_earthquake, \n",
        "                     cpd_alarm, \n",
        "                     cpd_johncalls, \n",
        "                     cpd_marycalls)"
      ],
      "execution_count": 4,
      "outputs": []
    },
    {
      "cell_type": "markdown",
      "metadata": {
        "id": "hT1DK_0WHAnT"
      },
      "source": [
        "### Check Bayes Nets model and probability distributions"
      ]
    },
    {
      "cell_type": "code",
      "metadata": {
        "id": "iFUMaPY9HAnU",
        "outputId": "0d6663de-3083-4af4-f549-2ab881b33713",
        "colab": {
          "base_uri": "https://localhost:8080/",
          "height": 34
        }
      },
      "source": [
        "# Checking the distributions validity\n",
        "AlarmNet.check_model()"
      ],
      "execution_count": 5,
      "outputs": [
        {
          "output_type": "execute_result",
          "data": {
            "text/plain": [
              "True"
            ]
          },
          "metadata": {
            "tags": []
          },
          "execution_count": 5
        }
      ]
    },
    {
      "cell_type": "code",
      "metadata": {
        "id": "ZnJm049EHAnY",
        "outputId": "b23e020c-c49e-4fae-dcac-6fc84c7be0ef",
        "colab": {
          "base_uri": "https://localhost:8080/",
          "height": 34
        }
      },
      "source": [
        "# Get the nodes of the model\n",
        "AlarmNet.nodes()"
      ],
      "execution_count": 6,
      "outputs": [
        {
          "output_type": "execute_result",
          "data": {
            "text/plain": [
              "NodeView(('Burglary', 'Earthquake', 'Alarm', 'John calls', 'Mary calls'))"
            ]
          },
          "metadata": {
            "tags": []
          },
          "execution_count": 6
        }
      ]
    },
    {
      "cell_type": "code",
      "metadata": {
        "id": "LUXIpigEHAne",
        "outputId": "ecc972f2-9680-44c1-b2e3-a39d799cc935",
        "colab": {
          "base_uri": "https://localhost:8080/",
          "height": 34
        }
      },
      "source": [
        "# Get the edges of the model\n",
        "AlarmNet.edges()"
      ],
      "execution_count": 7,
      "outputs": [
        {
          "output_type": "execute_result",
          "data": {
            "text/plain": [
              "OutEdgeView([('Burglary', 'Alarm'), ('Earthquake', 'Alarm'), ('Alarm', 'John calls'), ('Alarm', 'Mary calls')])"
            ]
          },
          "metadata": {
            "tags": []
          },
          "execution_count": 7
        }
      ]
    },
    {
      "cell_type": "code",
      "metadata": {
        "id": "Xq9sjeJyHAnh",
        "outputId": "13efcda1-3d65-4757-d2da-1ae6e7fead40",
        "colab": {
          "base_uri": "https://localhost:8080/",
          "height": 34
        }
      },
      "source": [
        "# Check the independencies of a node\n",
        "AlarmNet.local_independencies('Burglary')"
      ],
      "execution_count": 8,
      "outputs": [
        {
          "output_type": "execute_result",
          "data": {
            "text/plain": [
              "(Burglary _|_ Earthquake)"
            ]
          },
          "metadata": {
            "tags": []
          },
          "execution_count": 8
        }
      ]
    },
    {
      "cell_type": "code",
      "metadata": {
        "id": "-RI3F_fnHAnl",
        "outputId": "db9192c6-82c5-4239-c839-c4d737cf1db1",
        "colab": {
          "base_uri": "https://localhost:8080/",
          "height": 493
        }
      },
      "source": [
        "# List all conditional independencies\n",
        "AlarmNet.get_independencies()"
      ],
      "execution_count": 9,
      "outputs": [
        {
          "output_type": "execute_result",
          "data": {
            "text/plain": [
              "(Burglary _|_ Earthquake)\n",
              "(Burglary _|_ John calls, Mary calls | Alarm)\n",
              "(Burglary _|_ Mary calls | John calls, Alarm)\n",
              "(Burglary _|_ John calls | Mary calls, Alarm)\n",
              "(Burglary _|_ John calls, Mary calls | Earthquake, Alarm)\n",
              "(Burglary _|_ Mary calls | John calls, Earthquake, Alarm)\n",
              "(Burglary _|_ John calls | Mary calls, Earthquake, Alarm)\n",
              "(Earthquake _|_ Burglary)\n",
              "(Earthquake _|_ John calls, Mary calls | Alarm)\n",
              "(Earthquake _|_ Mary calls | John calls, Alarm)\n",
              "(Earthquake _|_ John calls, Mary calls | Burglary, Alarm)\n",
              "(Earthquake _|_ John calls | Mary calls, Alarm)\n",
              "(Earthquake _|_ Mary calls | John calls, Burglary, Alarm)\n",
              "(Earthquake _|_ John calls | Burglary, Mary calls, Alarm)\n",
              "(John calls _|_ Burglary, Mary calls, Earthquake | Alarm)\n",
              "(John calls _|_ Mary calls, Earthquake | Burglary, Alarm)\n",
              "(John calls _|_ Burglary, Earthquake | Mary calls, Alarm)\n",
              "(John calls _|_ Burglary, Mary calls | Earthquake, Alarm)\n",
              "(John calls _|_ Earthquake | Burglary, Mary calls, Alarm)\n",
              "(John calls _|_ Mary calls | Burglary, Earthquake, Alarm)\n",
              "(John calls _|_ Burglary | Mary calls, Earthquake, Alarm)\n",
              "(Mary calls _|_ John calls, Burglary, Earthquake | Alarm)\n",
              "(Mary calls _|_ Burglary, Earthquake | John calls, Alarm)\n",
              "(Mary calls _|_ John calls, Earthquake | Burglary, Alarm)\n",
              "(Mary calls _|_ John calls, Burglary | Earthquake, Alarm)\n",
              "(Mary calls _|_ Earthquake | John calls, Burglary, Alarm)\n",
              "(Mary calls _|_ Burglary | John calls, Earthquake, Alarm)\n",
              "(Mary calls _|_ John calls | Burglary, Earthquake, Alarm)"
            ]
          },
          "metadata": {
            "tags": []
          },
          "execution_count": 9
        }
      ]
    },
    {
      "cell_type": "markdown",
      "metadata": {
        "id": "7lHhDGSRHAnp"
      },
      "source": [
        "### Make the inferences using `VariableElimination` function\n",
        "\n",
        "1. Inference for a `marginal probability` of the \"Alarm\" node being True:\n",
        "```\n",
        "    solver = VariableElimination(AlarmNet)\n",
        "    marginal_prob = solver.query(variables=['Alarm'], \n",
        "                                 joint=False)\n",
        "    prob = marginal_prob['faulty alarm'].values\n",
        "```\n",
        "  \n",
        "2. Inference for a `conditional probability`, such as P('A' = false | 'B' = true, 'C' = False)):\n",
        "```\n",
        "    solver = VariableElimination(AlarmNet)\n",
        "    conditional_prob = solver.query(variables=['A'],\n",
        "                                    evidence={'B':1,'C':0}, \n",
        "                                    joint=False)\n",
        "    prob = conditional_prob['A'].values\n",
        "```    \n",
        "\n",
        "Both functions return two probabilities corresponding to `[False, True]` case. In order to get the `True` probability, we can specify `prob[1]` and `prob[0]` for `False` probability.\n"
      ]
    },
    {
      "cell_type": "code",
      "metadata": {
        "id": "1NYROZneHAnq",
        "outputId": "e889c7a1-806a-44d9-ac44-46015c022886",
        "colab": {
          "base_uri": "https://localhost:8080/",
          "height": 68
        }
      },
      "source": [
        "# marginal probability of the alarm node\n",
        "solver = VariableElimination(AlarmNet)\n",
        "marginal_prob = solver.query(variables=['Alarm'], joint=False)\n",
        "prob_alarm = marginal_prob['Alarm'].values\n",
        "prob_alarm"
      ],
      "execution_count": 10,
      "outputs": [
        {
          "output_type": "stream",
          "text": [
            "Finding Elimination Order: : 100%|██████████| 4/4 [00:00<00:00, 568.33it/s]\n",
            "Eliminating: Earthquake: 100%|██████████| 4/4 [00:00<00:00, 479.83it/s]\n"
          ],
          "name": "stderr"
        },
        {
          "output_type": "execute_result",
          "data": {
            "text/plain": [
              "array([0.99748356, 0.00251644])"
            ]
          },
          "metadata": {
            "tags": []
          },
          "execution_count": 10
        }
      ]
    },
    {
      "cell_type": "code",
      "metadata": {
        "id": "2oBALKyTHAnu",
        "outputId": "82934418-df8f-4cd5-f9fb-2d2989edc0ac",
        "colab": {
          "base_uri": "https://localhost:8080/",
          "height": 68
        }
      },
      "source": [
        "# conditional probability that the alarm will be triggered when there is a burglary, but no earthquake\n",
        "solver = VariableElimination(AlarmNet)\n",
        "conditional_prob_abe = solver.query(variables=['Alarm'], evidence={'Burglary':1,'Earthquake':0}, joint=False)\n",
        "prob_cond = conditional_prob_abe['Alarm'].values\n",
        "prob_cond"
      ],
      "execution_count": 11,
      "outputs": [
        {
          "output_type": "stream",
          "text": [
            "Finding Elimination Order: : 100%|██████████| 2/2 [00:00<00:00, 638.50it/s]\n",
            "Eliminating: Mary calls: 100%|██████████| 2/2 [00:00<00:00, 174.77it/s]\n"
          ],
          "name": "stderr"
        },
        {
          "output_type": "execute_result",
          "data": {
            "text/plain": [
              "array([0.06, 0.94])"
            ]
          },
          "metadata": {
            "tags": []
          },
          "execution_count": 11
        }
      ]
    },
    {
      "cell_type": "code",
      "metadata": {
        "id": "fw8eB1vAHAny",
        "outputId": "68f583d0-2e3c-410a-a587-baa866b7d192",
        "colab": {
          "base_uri": "https://localhost:8080/",
          "height": 68
        }
      },
      "source": [
        "# conditional probability the alarm rings when both John and Mary call\n",
        "solver = VariableElimination(AlarmNet)\n",
        "conditional_prob_ajm = solver.query(variables=['Alarm'], evidence={'Mary calls':1,'John calls':1}, joint=False)\n",
        "prob_cond = conditional_prob_ajm['Alarm'].values\n",
        "prob_cond # only take the True value"
      ],
      "execution_count": 12,
      "outputs": [
        {
          "output_type": "stream",
          "text": [
            "Finding Elimination Order: : 100%|██████████| 2/2 [00:00<00:00, 292.69it/s]\n",
            "Eliminating: Earthquake: 100%|██████████| 2/2 [00:00<00:00, 177.15it/s]\n"
          ],
          "name": "stderr"
        },
        {
          "output_type": "execute_result",
          "data": {
            "text/plain": [
              "array([0.98508896, 0.01491104])"
            ]
          },
          "metadata": {
            "tags": []
          },
          "execution_count": 12
        }
      ]
    },
    {
      "cell_type": "markdown",
      "metadata": {
        "id": "40lV-0lDHAn2"
      },
      "source": [
        "### Notes\n",
        "\n",
        "`pgmpy's variable elimination` function sometimes does not produce accurate posterior probability distributions. It is advisable to understand the conditional relationships of the query, hidden, and evidence nodes and enumerate them.\n",
        "\n",
        "From the example in the lecture videos, if we want to compute P(+b|+j, +m), we can enumerate them as:\n",
        "\n",
        "        P(+b|+j, +m) = P(+b, +j, +m) / P(+j, +m)\n",
        "        \n",
        "        # adding the sum of hidden variables\n",
        "        P(+b, +j, +m) = sum_of_e sum_of_a P(+b).P(e).P(a|+b, e).P(+j|a).P(+m|a)\n",
        "        P(+j, +m)     = sum_of_e sum_of_a sum_of_b P(b).P(e).P(a|b, e).P(+j|a).P(+m|a)\n",
        "        \n",
        "For more examples, please refer to `pgmpy`'s [Bayes Nets notebook](https://github.com/pgmpy/pgmpy_notebook/blob/master/notebooks/2.%20Bayesian%20Networks.ipynb) on its [Github repo](https://github.com/pgmpy/pgmpy)."
      ]
    },
    {
      "cell_type": "code",
      "metadata": {
        "id": "xPIneJAUHAn3"
      },
      "source": [
        ""
      ],
      "execution_count": null,
      "outputs": []
    }
  ]
}